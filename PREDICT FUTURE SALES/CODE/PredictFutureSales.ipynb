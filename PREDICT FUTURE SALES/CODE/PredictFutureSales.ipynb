{
  "nbformat": 4,
  "nbformat_minor": 0,
  "metadata": {
    "colab": {
      "name": "PredictFutureSales.ipynb",
      "provenance": [],
      "collapsed_sections": []
    },
    "kernelspec": {
      "name": "python3",
      "display_name": "Python 3"
    },
    "accelerator": "GPU"
  },
  "cells": [
    {
      "cell_type": "markdown",
      "metadata": {
        "id": "KnQVk3gH5sdV",
        "colab_type": "text"
      },
      "source": [
        "## **Introduction**\n",
        "#### This notebook explores the solution for the Kaggle Competition [Predict Future Sales](https://www.kaggle.com/c/competitive-data-science-predict-future-sales/overview)\n",
        "\n",
        "### **Problem Description**\n",
        "#### We are provided with a Time Series Dataset containing of daily sales data. Our goal is to prdict total sales for every product and store in the next month.\n",
        "\n",
        "### **Dataset**\n",
        "#### Dataset can be aquired from [here](https://www.kaggle.com/c/competitive-data-science-predict-future-sales/data)\n",
        "\n",
        "### **Approach**\n",
        "#### We are given a time series dataset, to work on this, two approches mainly a regular LSTM model and a hybrid CNN LSTM model have been discussed in this notebook.\n",
        "#### It is based on the learnings from: [Deep Learning for time series forecasting](https://machinelearningmastery.com/how-to-get-started-with-deep-learning-for-time-series-forecasting-7-day-mini-course/)\n",
        "\n",
        "### **Results from present analysis**\n",
        "| Model   | Accuracy   | Loss   | Mean Squared Error |\n",
        "|---|---|---|---|\n",
        "| Regular LSTM  | 91.97%  | 0.375  | 0.612 |\n",
        "| Hybrid CNN LSTM   |  92.13% | 0.378  |  0.615 | \n",
        "\n",
        "\n",
        "All these results are for validation dataset.\n",
        "The model was trained for 10 epochs, with Adam as the optimizer and a learning rate of 0.0003. This particular set of hyperparameters tends to give best results compared to other sets experimented with. "
      ]
    },
    {
      "cell_type": "markdown",
      "metadata": {
        "id": "Si5PvN4UtjUV",
        "colab_type": "text"
      },
      "source": [
        "### Dependencies\n"
      ]
    },
    {
      "cell_type": "code",
      "metadata": {
        "id": "qlmZ0gXTtkKW",
        "colab_type": "code",
        "colab": {
          "base_uri": "https://localhost:8080/",
          "height": 79
        },
        "outputId": "956c2fab-30fe-4e95-b8d6-56862fe542de"
      },
      "source": [
        "import warnings\n",
        "import numpy as np\n",
        "import pandas as pd\n",
        "import matplotlib.pyplot as plt\n",
        "from keras import optimizers\n",
        "from keras.utils import plot_model\n",
        "from keras.models import Sequential, Model\n",
        "from keras.layers.convolutional import Conv1D, MaxPooling1D\n",
        "from keras.layers import Dense, LSTM, RepeatVector, TimeDistributed, Flatten\n",
        "from sklearn.metrics import mean_squared_error\n",
        "from sklearn.model_selection import train_test_split\n",
        "\n",
        "%matplotlib inline\n",
        "warnings.filterwarnings(\"ignore\")\n",
        "\n",
        "\n",
        "# Set seeds to make the experiment more reproducible.\n",
        "from tensorflow import set_random_seed\n",
        "from numpy.random import seed\n",
        "set_random_seed(1)\n",
        "seed(1)"
      ],
      "execution_count": 1,
      "outputs": [
        {
          "output_type": "stream",
          "text": [
            "Using TensorFlow backend.\n"
          ],
          "name": "stderr"
        },
        {
          "output_type": "display_data",
          "data": {
            "text/html": [
              "<p style=\"color: red;\">\n",
              "The default version of TensorFlow in Colab will soon switch to TensorFlow 2.x.<br>\n",
              "We recommend you <a href=\"https://www.tensorflow.org/guide/migrate\" target=\"_blank\">upgrade</a> now \n",
              "or ensure your notebook will continue to use TensorFlow 1.x via the <code>%tensorflow_version 1.x</code> magic:\n",
              "<a href=\"https://colab.research.google.com/notebooks/tensorflow_version.ipynb\" target=\"_blank\">more info</a>.</p>\n"
            ],
            "text/plain": [
              "<IPython.core.display.HTML object>"
            ]
          },
          "metadata": {
            "tags": []
          }
        }
      ]
    },
    {
      "cell_type": "markdown",
      "metadata": {
        "id": "eFWtPj-dzrZt",
        "colab_type": "text"
      },
      "source": [
        "### Acquiring the dataset directly through Kaggle API\n"
      ]
    },
    {
      "cell_type": "code",
      "metadata": {
        "id": "LRC6ExDSzhAi",
        "colab_type": "code",
        "colab": {}
      },
      "source": [
        "!pip install -U -q kaggle\n",
        "!mkdir -p ~/.kaggle"
      ],
      "execution_count": 0,
      "outputs": []
    },
    {
      "cell_type": "code",
      "metadata": {
        "id": "oBrWPdJ5zsTA",
        "colab_type": "code",
        "colab": {}
      },
      "source": [
        "# Here I uploaded my JSON key for the API\n",
        "from google.colab import files\n",
        "files.upload()"
      ],
      "execution_count": 0,
      "outputs": []
    },
    {
      "cell_type": "code",
      "metadata": {
        "id": "XvHwszHjz4t1",
        "colab_type": "code",
        "colab": {}
      },
      "source": [
        "!cp kaggle.json ~/.kaggle/"
      ],
      "execution_count": 0,
      "outputs": []
    },
    {
      "cell_type": "code",
      "metadata": {
        "id": "AI396c7K0BhV",
        "colab_type": "code",
        "colab": {}
      },
      "source": [
        "!chmod 600 /root/.kaggle/kaggle.json"
      ],
      "execution_count": 0,
      "outputs": []
    },
    {
      "cell_type": "code",
      "metadata": {
        "id": "IOcU-RWO0GK1",
        "colab_type": "code",
        "colab": {
          "base_uri": "https://localhost:8080/",
          "height": 336
        },
        "outputId": "6ff3e5f4-b851-4d24-f861-15b5137ecfc0"
      },
      "source": [
        "!kaggle competitions download -c competitive-data-science-predict-future-sales"
      ],
      "execution_count": 6,
      "outputs": [
        {
          "output_type": "stream",
          "text": [
            "Warning: Looks like you're using an outdated API Version, please consider updating (server 1.5.6 / client 1.5.4)\n",
            "Downloading item_categories.csv to /content\n",
            "\r  0% 0.00/3.49k [00:00<?, ?B/s]\n",
            "100% 3.49k/3.49k [00:00<00:00, 3.86MB/s]\n",
            "Downloading items.csv to /content\n",
            "  0% 0.00/1.50M [00:00<?, ?B/s]\n",
            "100% 1.50M/1.50M [00:00<00:00, 101MB/s]\n",
            "Downloading shops.csv to /content\n",
            "  0% 0.00/2.91k [00:00<?, ?B/s]\n",
            "100% 2.91k/2.91k [00:00<00:00, 3.00MB/s]\n",
            "Downloading sample_submission.csv.gz to /content\n",
            "  0% 0.00/469k [00:00<?, ?B/s]\n",
            "100% 469k/469k [00:00<00:00, 201MB/s]\n",
            "Downloading test.csv.gz to /content\n",
            "  0% 0.00/1.01M [00:00<?, ?B/s]\n",
            "100% 1.01M/1.01M [00:00<00:00, 144MB/s]\n",
            "Downloading sales_train.csv.gz to /content\n",
            " 70% 9.00M/12.9M [00:00<00:00, 31.8MB/s]\n",
            "100% 12.9M/12.9M [00:00<00:00, 37.1MB/s]\n"
          ],
          "name": "stdout"
        }
      ]
    },
    {
      "cell_type": "markdown",
      "metadata": {
        "id": "wNfvdTEJ0PvX",
        "colab_type": "text"
      },
      "source": [
        "### Reading train and test data\n",
        "\n"
      ]
    },
    {
      "cell_type": "code",
      "metadata": {
        "id": "Fvq_kAIk0JxM",
        "colab_type": "code",
        "colab": {}
      },
      "source": [
        "train_data=pd.read_csv('sales_train.csv.gz',compression='gzip',low_memory=False)\n",
        "\n",
        "test_data=pd.read_csv('test.csv.gz',compression='gzip',low_memory=False)\n",
        "\n"
      ],
      "execution_count": 0,
      "outputs": []
    },
    {
      "cell_type": "markdown",
      "metadata": {
        "id": "WQmIpmWaV2ci",
        "colab_type": "text"
      },
      "source": [
        "#### Visualizing Training Data\n",
        "\n",
        "\n"
      ]
    },
    {
      "cell_type": "code",
      "metadata": {
        "id": "9Hra_IVd13Zg",
        "colab_type": "code",
        "colab": {
          "base_uri": "https://localhost:8080/",
          "height": 195
        },
        "outputId": "b44cb3ae-93d6-45f6-ac7a-20b0755e3ef1"
      },
      "source": [
        "train_data.head()"
      ],
      "execution_count": 30,
      "outputs": [
        {
          "output_type": "execute_result",
          "data": {
            "text/html": [
              "<div>\n",
              "<style scoped>\n",
              "    .dataframe tbody tr th:only-of-type {\n",
              "        vertical-align: middle;\n",
              "    }\n",
              "\n",
              "    .dataframe tbody tr th {\n",
              "        vertical-align: top;\n",
              "    }\n",
              "\n",
              "    .dataframe thead th {\n",
              "        text-align: right;\n",
              "    }\n",
              "</style>\n",
              "<table border=\"1\" class=\"dataframe\">\n",
              "  <thead>\n",
              "    <tr style=\"text-align: right;\">\n",
              "      <th></th>\n",
              "      <th>date</th>\n",
              "      <th>date_block_num</th>\n",
              "      <th>shop_id</th>\n",
              "      <th>item_id</th>\n",
              "      <th>item_price</th>\n",
              "      <th>item_cnt_day</th>\n",
              "    </tr>\n",
              "  </thead>\n",
              "  <tbody>\n",
              "    <tr>\n",
              "      <th>0</th>\n",
              "      <td>02.01.2013</td>\n",
              "      <td>0</td>\n",
              "      <td>59</td>\n",
              "      <td>22154</td>\n",
              "      <td>999.00</td>\n",
              "      <td>1.0</td>\n",
              "    </tr>\n",
              "    <tr>\n",
              "      <th>1</th>\n",
              "      <td>03.01.2013</td>\n",
              "      <td>0</td>\n",
              "      <td>25</td>\n",
              "      <td>2552</td>\n",
              "      <td>899.00</td>\n",
              "      <td>1.0</td>\n",
              "    </tr>\n",
              "    <tr>\n",
              "      <th>2</th>\n",
              "      <td>05.01.2013</td>\n",
              "      <td>0</td>\n",
              "      <td>25</td>\n",
              "      <td>2552</td>\n",
              "      <td>899.00</td>\n",
              "      <td>-1.0</td>\n",
              "    </tr>\n",
              "    <tr>\n",
              "      <th>3</th>\n",
              "      <td>06.01.2013</td>\n",
              "      <td>0</td>\n",
              "      <td>25</td>\n",
              "      <td>2554</td>\n",
              "      <td>1709.05</td>\n",
              "      <td>1.0</td>\n",
              "    </tr>\n",
              "    <tr>\n",
              "      <th>4</th>\n",
              "      <td>15.01.2013</td>\n",
              "      <td>0</td>\n",
              "      <td>25</td>\n",
              "      <td>2555</td>\n",
              "      <td>1099.00</td>\n",
              "      <td>1.0</td>\n",
              "    </tr>\n",
              "  </tbody>\n",
              "</table>\n",
              "</div>"
            ],
            "text/plain": [
              "         date  date_block_num  shop_id  item_id  item_price  item_cnt_day\n",
              "0  02.01.2013               0       59    22154      999.00           1.0\n",
              "1  03.01.2013               0       25     2552      899.00           1.0\n",
              "2  05.01.2013               0       25     2552      899.00          -1.0\n",
              "3  06.01.2013               0       25     2554     1709.05           1.0\n",
              "4  15.01.2013               0       25     2555     1099.00           1.0"
            ]
          },
          "metadata": {
            "tags": []
          },
          "execution_count": 30
        }
      ]
    },
    {
      "cell_type": "markdown",
      "metadata": {
        "id": "Bynw_FCaV6ul",
        "colab_type": "text"
      },
      "source": [
        "### Visualizing Testing Data\n",
        "\n",
        "\n",
        "\n"
      ]
    },
    {
      "cell_type": "code",
      "metadata": {
        "id": "AznbR2SE2RrZ",
        "colab_type": "code",
        "colab": {
          "base_uri": "https://localhost:8080/",
          "height": 195
        },
        "outputId": "4cd98ba7-1767-471f-8d17-1ac6d744151c"
      },
      "source": [
        "test_data.head()"
      ],
      "execution_count": 31,
      "outputs": [
        {
          "output_type": "execute_result",
          "data": {
            "text/html": [
              "<div>\n",
              "<style scoped>\n",
              "    .dataframe tbody tr th:only-of-type {\n",
              "        vertical-align: middle;\n",
              "    }\n",
              "\n",
              "    .dataframe tbody tr th {\n",
              "        vertical-align: top;\n",
              "    }\n",
              "\n",
              "    .dataframe thead th {\n",
              "        text-align: right;\n",
              "    }\n",
              "</style>\n",
              "<table border=\"1\" class=\"dataframe\">\n",
              "  <thead>\n",
              "    <tr style=\"text-align: right;\">\n",
              "      <th></th>\n",
              "      <th>ID</th>\n",
              "      <th>shop_id</th>\n",
              "      <th>item_id</th>\n",
              "    </tr>\n",
              "  </thead>\n",
              "  <tbody>\n",
              "    <tr>\n",
              "      <th>0</th>\n",
              "      <td>0</td>\n",
              "      <td>5</td>\n",
              "      <td>5037</td>\n",
              "    </tr>\n",
              "    <tr>\n",
              "      <th>1</th>\n",
              "      <td>1</td>\n",
              "      <td>5</td>\n",
              "      <td>5320</td>\n",
              "    </tr>\n",
              "    <tr>\n",
              "      <th>2</th>\n",
              "      <td>2</td>\n",
              "      <td>5</td>\n",
              "      <td>5233</td>\n",
              "    </tr>\n",
              "    <tr>\n",
              "      <th>3</th>\n",
              "      <td>3</td>\n",
              "      <td>5</td>\n",
              "      <td>5232</td>\n",
              "    </tr>\n",
              "    <tr>\n",
              "      <th>4</th>\n",
              "      <td>4</td>\n",
              "      <td>5</td>\n",
              "      <td>5268</td>\n",
              "    </tr>\n",
              "  </tbody>\n",
              "</table>\n",
              "</div>"
            ],
            "text/plain": [
              "   ID  shop_id  item_id\n",
              "0   0        5     5037\n",
              "1   1        5     5320\n",
              "2   2        5     5233\n",
              "3   3        5     5232\n",
              "4   4        5     5268"
            ]
          },
          "metadata": {
            "tags": []
          },
          "execution_count": 31
        }
      ]
    },
    {
      "cell_type": "code",
      "metadata": {
        "id": "9EE32JBg2630",
        "colab_type": "code",
        "colab": {}
      },
      "source": [
        "''' The feature \"date\" is an object as of now, in orfer to manipulate it, we need to convert it into date time format.'''\n",
        "\n",
        "train_data['date'] = pd.to_datetime(train_data['date'], format='%d.%m.%Y')"
      ],
      "execution_count": 0,
      "outputs": []
    },
    {
      "cell_type": "code",
      "metadata": {
        "id": "kacto0Ed4Mjl",
        "colab_type": "code",
        "colab": {
          "base_uri": "https://localhost:8080/",
          "height": 195
        },
        "outputId": "e1174b0e-44a7-482f-f8b0-f61e0cfbdfd2"
      },
      "source": [
        "train_data.tail()"
      ],
      "execution_count": 33,
      "outputs": [
        {
          "output_type": "execute_result",
          "data": {
            "text/html": [
              "<div>\n",
              "<style scoped>\n",
              "    .dataframe tbody tr th:only-of-type {\n",
              "        vertical-align: middle;\n",
              "    }\n",
              "\n",
              "    .dataframe tbody tr th {\n",
              "        vertical-align: top;\n",
              "    }\n",
              "\n",
              "    .dataframe thead th {\n",
              "        text-align: right;\n",
              "    }\n",
              "</style>\n",
              "<table border=\"1\" class=\"dataframe\">\n",
              "  <thead>\n",
              "    <tr style=\"text-align: right;\">\n",
              "      <th></th>\n",
              "      <th>date</th>\n",
              "      <th>date_block_num</th>\n",
              "      <th>shop_id</th>\n",
              "      <th>item_id</th>\n",
              "      <th>item_price</th>\n",
              "      <th>item_cnt_day</th>\n",
              "    </tr>\n",
              "  </thead>\n",
              "  <tbody>\n",
              "    <tr>\n",
              "      <th>2935844</th>\n",
              "      <td>2015-10-10</td>\n",
              "      <td>33</td>\n",
              "      <td>25</td>\n",
              "      <td>7409</td>\n",
              "      <td>299.0</td>\n",
              "      <td>1.0</td>\n",
              "    </tr>\n",
              "    <tr>\n",
              "      <th>2935845</th>\n",
              "      <td>2015-10-09</td>\n",
              "      <td>33</td>\n",
              "      <td>25</td>\n",
              "      <td>7460</td>\n",
              "      <td>299.0</td>\n",
              "      <td>1.0</td>\n",
              "    </tr>\n",
              "    <tr>\n",
              "      <th>2935846</th>\n",
              "      <td>2015-10-14</td>\n",
              "      <td>33</td>\n",
              "      <td>25</td>\n",
              "      <td>7459</td>\n",
              "      <td>349.0</td>\n",
              "      <td>1.0</td>\n",
              "    </tr>\n",
              "    <tr>\n",
              "      <th>2935847</th>\n",
              "      <td>2015-10-22</td>\n",
              "      <td>33</td>\n",
              "      <td>25</td>\n",
              "      <td>7440</td>\n",
              "      <td>299.0</td>\n",
              "      <td>1.0</td>\n",
              "    </tr>\n",
              "    <tr>\n",
              "      <th>2935848</th>\n",
              "      <td>2015-10-03</td>\n",
              "      <td>33</td>\n",
              "      <td>25</td>\n",
              "      <td>7460</td>\n",
              "      <td>299.0</td>\n",
              "      <td>1.0</td>\n",
              "    </tr>\n",
              "  </tbody>\n",
              "</table>\n",
              "</div>"
            ],
            "text/plain": [
              "              date  date_block_num  shop_id  item_id  item_price  item_cnt_day\n",
              "2935844 2015-10-10              33       25     7409       299.0           1.0\n",
              "2935845 2015-10-09              33       25     7460       299.0           1.0\n",
              "2935846 2015-10-14              33       25     7459       349.0           1.0\n",
              "2935847 2015-10-22              33       25     7440       299.0           1.0\n",
              "2935848 2015-10-03              33       25     7460       299.0           1.0"
            ]
          },
          "metadata": {
            "tags": []
          },
          "execution_count": 33
        }
      ]
    },
    {
      "cell_type": "code",
      "metadata": {
        "id": "xlLqcu0A4du-",
        "colab_type": "code",
        "colab": {
          "base_uri": "https://localhost:8080/",
          "height": 50
        },
        "outputId": "0b44b06e-f07c-4a97-eb97-0ce1f6decf61"
      },
      "source": [
        "''' Finding the minimum and maximum of the dates in order to know the whole time period'''\n",
        "print(min(train_data['date']))\n",
        "print(max(train_data['date']))\n"
      ],
      "execution_count": 34,
      "outputs": [
        {
          "output_type": "stream",
          "text": [
            "2013-01-01 00:00:00\n",
            "2015-10-31 00:00:00\n"
          ],
          "name": "stdout"
        }
      ]
    },
    {
      "cell_type": "markdown",
      "metadata": {
        "id": "hNtpS64phY1D",
        "colab_type": "text"
      },
      "source": [
        "### Exploratory Data Analysis\n"
      ]
    },
    {
      "cell_type": "code",
      "metadata": {
        "id": "s1KYvAfJ9qi5",
        "colab_type": "code",
        "colab": {}
      },
      "source": [
        "def eda(df):\n",
        "  '''\n",
        "  Arguments: dataframe\n",
        "  Function: Tabulates different properties of data for analysis\n",
        "  Output: Prints records, description, columns and missing values\n",
        "  \n",
        "  '''\n",
        "\n",
        "  print(\"First 5 records\")\n",
        "  print(df.head(5))\n",
        "\n",
        "  print(\"Description\")\n",
        "  print(df.describe())\n",
        "\n",
        "  print(\"Columns\")\n",
        "  print(df.columns)\n",
        "\n",
        "  print(\"Shape of data\")\n",
        "  print(df.shape)\n",
        "\n",
        "  print(\"Missing values\")\n",
        "  print(df.isnull().sum())\n"
      ],
      "execution_count": 0,
      "outputs": []
    },
    {
      "cell_type": "code",
      "metadata": {
        "id": "5Jg2exCm_CzM",
        "colab_type": "code",
        "colab": {
          "base_uri": "https://localhost:8080/",
          "height": 538
        },
        "outputId": "55c0e68f-dce9-4c64-c99d-b9ca244ad2ed"
      },
      "source": [
        "eda(train_data)"
      ],
      "execution_count": 36,
      "outputs": [
        {
          "output_type": "stream",
          "text": [
            "First 5 records\n",
            "        date  date_block_num  shop_id  item_id  item_price  item_cnt_day\n",
            "0 2013-01-02               0       59    22154      999.00           1.0\n",
            "1 2013-01-03               0       25     2552      899.00           1.0\n",
            "2 2013-01-05               0       25     2552      899.00          -1.0\n",
            "3 2013-01-06               0       25     2554     1709.05           1.0\n",
            "4 2013-01-15               0       25     2555     1099.00           1.0\n",
            "Description\n",
            "       date_block_num       shop_id       item_id    item_price  item_cnt_day\n",
            "count    2.935849e+06  2.935849e+06  2.935849e+06  2.935849e+06  2.935849e+06\n",
            "mean     1.456991e+01  3.300173e+01  1.019723e+04  8.908532e+02  1.242641e+00\n",
            "std      9.422988e+00  1.622697e+01  6.324297e+03  1.729800e+03  2.618834e+00\n",
            "min      0.000000e+00  0.000000e+00  0.000000e+00 -1.000000e+00 -2.200000e+01\n",
            "25%      7.000000e+00  2.200000e+01  4.476000e+03  2.490000e+02  1.000000e+00\n",
            "50%      1.400000e+01  3.100000e+01  9.343000e+03  3.990000e+02  1.000000e+00\n",
            "75%      2.300000e+01  4.700000e+01  1.568400e+04  9.990000e+02  1.000000e+00\n",
            "max      3.300000e+01  5.900000e+01  2.216900e+04  3.079800e+05  2.169000e+03\n",
            "Columns\n",
            "Index(['date', 'date_block_num', 'shop_id', 'item_id', 'item_price',\n",
            "       'item_cnt_day'],\n",
            "      dtype='object')\n",
            "Shape of data\n",
            "(2935849, 6)\n",
            "Missing values\n",
            "date              0\n",
            "date_block_num    0\n",
            "shop_id           0\n",
            "item_id           0\n",
            "item_price        0\n",
            "item_cnt_day      0\n",
            "dtype: int64\n"
          ],
          "name": "stdout"
        }
      ]
    },
    {
      "cell_type": "markdown",
      "metadata": {
        "id": "VlYNZYW3iKoN",
        "colab_type": "text"
      },
      "source": [
        "### Feature Engineering\n"
      ]
    },
    {
      "cell_type": "markdown",
      "metadata": {
        "id": "qFlWV-HMu9e3",
        "colab_type": "text"
      },
      "source": [
        "1. First of all, let's just keep those \"shop ids\" and \"item ids\", that are there in the test set. This will give more accurate results\n",
        "2. The feature \"int_cnt_day\" will be used as a univariate time series, hence all other features are being dropped\n",
        "3. We are asked to predict total sales for every product and store in the next month, and our data is given by day, so let's aggregate the data by month.\n",
        "4. Test set distributions for \"item_cnt\" seem to lie in the range 0 to 20, and therefore we will keep this range only for training data too.\n",
        "\n",
        "\n",
        "\n"
      ]
    },
    {
      "cell_type": "code",
      "metadata": {
        "id": "xO0cFF9kv5IH",
        "colab_type": "code",
        "colab": {}
      },
      "source": [
        "test_shop_ids = test_data['shop_id'].unique()\n",
        "test_item_ids = test_data['item_id'].unique()\n",
        "\n",
        "# Only shops that exist in test set.\n",
        "train_data = train_data[train_data['shop_id'].isin(test_shop_ids)]\n",
        "\n",
        "# Only items that exist in test set.\n",
        "train_data = train_data[train_data['item_id'].isin(test_item_ids)]"
      ],
      "execution_count": 0,
      "outputs": []
    },
    {
      "cell_type": "code",
      "metadata": {
        "id": "FfbaS3O58yic",
        "colab_type": "code",
        "colab": {
          "base_uri": "https://localhost:8080/",
          "height": 195
        },
        "outputId": "4e6e804b-46b2-4a9d-94f6-edbb1e1b2dfd"
      },
      "source": [
        "train_monthly = train_data[['date', 'date_block_num', 'shop_id', 'item_id', 'item_cnt_day']]\n",
        "train_monthly = train_monthly.sort_values('date').groupby(['date_block_num', 'shop_id', 'item_id'], as_index=False)\n",
        "train_monthly = train_monthly.agg({'item_cnt_day':['sum']})\n",
        "train_monthly.columns = ['date_block_num', 'shop_id', 'item_id', 'item_cnt']\n",
        "train_monthly = train_monthly.query('item_cnt >= 0 and item_cnt <= 20')\n",
        "train_monthly['item_cnt_month'] = train_monthly.sort_values('date_block_num').groupby(['shop_id', 'item_id'])['item_cnt'].shift(-1)\n",
        "train_monthly.head(10).T"
      ],
      "execution_count": 37,
      "outputs": [
        {
          "output_type": "execute_result",
          "data": {
            "text/html": [
              "<div>\n",
              "<style scoped>\n",
              "    .dataframe tbody tr th:only-of-type {\n",
              "        vertical-align: middle;\n",
              "    }\n",
              "\n",
              "    .dataframe tbody tr th {\n",
              "        vertical-align: top;\n",
              "    }\n",
              "\n",
              "    .dataframe thead th {\n",
              "        text-align: right;\n",
              "    }\n",
              "</style>\n",
              "<table border=\"1\" class=\"dataframe\">\n",
              "  <thead>\n",
              "    <tr style=\"text-align: right;\">\n",
              "      <th></th>\n",
              "      <th>0</th>\n",
              "      <th>1</th>\n",
              "      <th>2</th>\n",
              "      <th>3</th>\n",
              "      <th>4</th>\n",
              "      <th>5</th>\n",
              "      <th>6</th>\n",
              "      <th>7</th>\n",
              "      <th>8</th>\n",
              "      <th>9</th>\n",
              "    </tr>\n",
              "  </thead>\n",
              "  <tbody>\n",
              "    <tr>\n",
              "      <th>date_block_num</th>\n",
              "      <td>0.0</td>\n",
              "      <td>0.0</td>\n",
              "      <td>0.0</td>\n",
              "      <td>0.0</td>\n",
              "      <td>0.0</td>\n",
              "      <td>0.0</td>\n",
              "      <td>0.0</td>\n",
              "      <td>0.0</td>\n",
              "      <td>0.0</td>\n",
              "      <td>0.0</td>\n",
              "    </tr>\n",
              "    <tr>\n",
              "      <th>shop_id</th>\n",
              "      <td>0.0</td>\n",
              "      <td>0.0</td>\n",
              "      <td>0.0</td>\n",
              "      <td>0.0</td>\n",
              "      <td>0.0</td>\n",
              "      <td>0.0</td>\n",
              "      <td>0.0</td>\n",
              "      <td>0.0</td>\n",
              "      <td>0.0</td>\n",
              "      <td>0.0</td>\n",
              "    </tr>\n",
              "    <tr>\n",
              "      <th>item_id</th>\n",
              "      <td>32.0</td>\n",
              "      <td>33.0</td>\n",
              "      <td>35.0</td>\n",
              "      <td>43.0</td>\n",
              "      <td>51.0</td>\n",
              "      <td>61.0</td>\n",
              "      <td>75.0</td>\n",
              "      <td>88.0</td>\n",
              "      <td>95.0</td>\n",
              "      <td>96.0</td>\n",
              "    </tr>\n",
              "    <tr>\n",
              "      <th>item_cnt</th>\n",
              "      <td>6.0</td>\n",
              "      <td>3.0</td>\n",
              "      <td>1.0</td>\n",
              "      <td>1.0</td>\n",
              "      <td>2.0</td>\n",
              "      <td>1.0</td>\n",
              "      <td>1.0</td>\n",
              "      <td>1.0</td>\n",
              "      <td>1.0</td>\n",
              "      <td>1.0</td>\n",
              "    </tr>\n",
              "    <tr>\n",
              "      <th>item_cnt_month</th>\n",
              "      <td>10.0</td>\n",
              "      <td>3.0</td>\n",
              "      <td>14.0</td>\n",
              "      <td>NaN</td>\n",
              "      <td>3.0</td>\n",
              "      <td>NaN</td>\n",
              "      <td>NaN</td>\n",
              "      <td>NaN</td>\n",
              "      <td>NaN</td>\n",
              "      <td>NaN</td>\n",
              "    </tr>\n",
              "  </tbody>\n",
              "</table>\n",
              "</div>"
            ],
            "text/plain": [
              "                   0     1     2     3     4     5     6     7     8     9\n",
              "date_block_num   0.0   0.0   0.0   0.0   0.0   0.0   0.0   0.0   0.0   0.0\n",
              "shop_id          0.0   0.0   0.0   0.0   0.0   0.0   0.0   0.0   0.0   0.0\n",
              "item_id         32.0  33.0  35.0  43.0  51.0  61.0  75.0  88.0  95.0  96.0\n",
              "item_cnt         6.0   3.0   1.0   1.0   2.0   1.0   1.0   1.0   1.0   1.0\n",
              "item_cnt_month  10.0   3.0  14.0   NaN   3.0   NaN   NaN   NaN   NaN   NaN"
            ]
          },
          "metadata": {
            "tags": []
          },
          "execution_count": 37
        }
      ]
    },
    {
      "cell_type": "code",
      "metadata": {
        "id": "AXXG0Avx_a-Y",
        "colab_type": "code",
        "colab": {
          "base_uri": "https://localhost:8080/",
          "height": 195
        },
        "outputId": "50e557ca-8c5b-453c-ae20-d669e4c8ef27"
      },
      "source": [
        "train_monthly.describe().T"
      ],
      "execution_count": 38,
      "outputs": [
        {
          "output_type": "execute_result",
          "data": {
            "text/html": [
              "<div>\n",
              "<style scoped>\n",
              "    .dataframe tbody tr th:only-of-type {\n",
              "        vertical-align: middle;\n",
              "    }\n",
              "\n",
              "    .dataframe tbody tr th {\n",
              "        vertical-align: top;\n",
              "    }\n",
              "\n",
              "    .dataframe thead th {\n",
              "        text-align: right;\n",
              "    }\n",
              "</style>\n",
              "<table border=\"1\" class=\"dataframe\">\n",
              "  <thead>\n",
              "    <tr style=\"text-align: right;\">\n",
              "      <th></th>\n",
              "      <th>count</th>\n",
              "      <th>mean</th>\n",
              "      <th>std</th>\n",
              "      <th>min</th>\n",
              "      <th>25%</th>\n",
              "      <th>50%</th>\n",
              "      <th>75%</th>\n",
              "      <th>max</th>\n",
              "    </tr>\n",
              "  </thead>\n",
              "  <tbody>\n",
              "    <tr>\n",
              "      <th>date_block_num</th>\n",
              "      <td>1596746.0</td>\n",
              "      <td>14.665884</td>\n",
              "      <td>9.545273</td>\n",
              "      <td>0.0</td>\n",
              "      <td>6.0</td>\n",
              "      <td>14.0</td>\n",
              "      <td>23.0</td>\n",
              "      <td>33.0</td>\n",
              "    </tr>\n",
              "    <tr>\n",
              "      <th>shop_id</th>\n",
              "      <td>1596746.0</td>\n",
              "      <td>32.811282</td>\n",
              "      <td>16.543835</td>\n",
              "      <td>0.0</td>\n",
              "      <td>21.0</td>\n",
              "      <td>31.0</td>\n",
              "      <td>47.0</td>\n",
              "      <td>59.0</td>\n",
              "    </tr>\n",
              "    <tr>\n",
              "      <th>item_id</th>\n",
              "      <td>1596746.0</td>\n",
              "      <td>10687.982293</td>\n",
              "      <td>6233.717097</td>\n",
              "      <td>0.0</td>\n",
              "      <td>5060.0</td>\n",
              "      <td>10502.0</td>\n",
              "      <td>16060.0</td>\n",
              "      <td>22169.0</td>\n",
              "    </tr>\n",
              "    <tr>\n",
              "      <th>item_cnt</th>\n",
              "      <td>1596746.0</td>\n",
              "      <td>1.894908</td>\n",
              "      <td>2.087729</td>\n",
              "      <td>0.0</td>\n",
              "      <td>1.0</td>\n",
              "      <td>1.0</td>\n",
              "      <td>2.0</td>\n",
              "      <td>20.0</td>\n",
              "    </tr>\n",
              "    <tr>\n",
              "      <th>item_cnt_month</th>\n",
              "      <td>1173014.0</td>\n",
              "      <td>1.891284</td>\n",
              "      <td>1.964539</td>\n",
              "      <td>0.0</td>\n",
              "      <td>1.0</td>\n",
              "      <td>1.0</td>\n",
              "      <td>2.0</td>\n",
              "      <td>20.0</td>\n",
              "    </tr>\n",
              "  </tbody>\n",
              "</table>\n",
              "</div>"
            ],
            "text/plain": [
              "                    count          mean          std  ...      50%      75%      max\n",
              "date_block_num  1596746.0     14.665884     9.545273  ...     14.0     23.0     33.0\n",
              "shop_id         1596746.0     32.811282    16.543835  ...     31.0     47.0     59.0\n",
              "item_id         1596746.0  10687.982293  6233.717097  ...  10502.0  16060.0  22169.0\n",
              "item_cnt        1596746.0      1.894908     2.087729  ...      1.0      2.0     20.0\n",
              "item_cnt_month  1173014.0      1.891284     1.964539  ...      1.0      2.0     20.0\n",
              "\n",
              "[5 rows x 8 columns]"
            ]
          },
          "metadata": {
            "tags": []
          },
          "execution_count": 38
        }
      ]
    },
    {
      "cell_type": "markdown",
      "metadata": {
        "id": "6o9EC6Wu1s2U",
        "colab_type": "text"
      },
      "source": [
        "#### Time Series Processing\n"
      ]
    },
    {
      "cell_type": "markdown",
      "metadata": {
        "id": "f1wiO_zG2JVX",
        "colab_type": "text"
      },
      "source": [
        "##### Since we only need the \"item_cnt\" feature as a series, we can get that by using a pivot operation. \n",
        "##### This will also replace all the missing months from each \"shop_id\" and \"item_id\" with 0.\n",
        "\n"
      ]
    },
    {
      "cell_type": "code",
      "metadata": {
        "id": "r4xflvKy_mM9",
        "colab_type": "code",
        "colab": {
          "base_uri": "https://localhost:8080/",
          "height": 195
        },
        "outputId": "74fc6b7e-b36b-40f5-b6a7-e04c0ba6060a"
      },
      "source": [
        "monthly_series = train_monthly.pivot_table(index=['shop_id', 'item_id'], columns='date_block_num',values='item_cnt', fill_value=0).reset_index()\n",
        "monthly_series.tail()"
      ],
      "execution_count": 40,
      "outputs": [
        {
          "output_type": "execute_result",
          "data": {
            "text/html": [
              "<div>\n",
              "<style scoped>\n",
              "    .dataframe tbody tr th:only-of-type {\n",
              "        vertical-align: middle;\n",
              "    }\n",
              "\n",
              "    .dataframe tbody tr th {\n",
              "        vertical-align: top;\n",
              "    }\n",
              "\n",
              "    .dataframe thead th {\n",
              "        text-align: right;\n",
              "    }\n",
              "</style>\n",
              "<table border=\"1\" class=\"dataframe\">\n",
              "  <thead>\n",
              "    <tr style=\"text-align: right;\">\n",
              "      <th>date_block_num</th>\n",
              "      <th>shop_id</th>\n",
              "      <th>item_id</th>\n",
              "      <th>0</th>\n",
              "      <th>1</th>\n",
              "      <th>2</th>\n",
              "      <th>3</th>\n",
              "      <th>4</th>\n",
              "      <th>5</th>\n",
              "      <th>6</th>\n",
              "      <th>7</th>\n",
              "      <th>8</th>\n",
              "      <th>9</th>\n",
              "      <th>10</th>\n",
              "      <th>11</th>\n",
              "      <th>12</th>\n",
              "      <th>13</th>\n",
              "      <th>14</th>\n",
              "      <th>15</th>\n",
              "      <th>16</th>\n",
              "      <th>17</th>\n",
              "      <th>18</th>\n",
              "      <th>19</th>\n",
              "      <th>20</th>\n",
              "      <th>21</th>\n",
              "      <th>22</th>\n",
              "      <th>23</th>\n",
              "      <th>24</th>\n",
              "      <th>25</th>\n",
              "      <th>26</th>\n",
              "      <th>27</th>\n",
              "      <th>28</th>\n",
              "      <th>29</th>\n",
              "      <th>30</th>\n",
              "      <th>31</th>\n",
              "      <th>32</th>\n",
              "      <th>33</th>\n",
              "    </tr>\n",
              "  </thead>\n",
              "  <tbody>\n",
              "    <tr>\n",
              "      <th>423727</th>\n",
              "      <td>59</td>\n",
              "      <td>22154</td>\n",
              "      <td>1</td>\n",
              "      <td>0</td>\n",
              "      <td>0</td>\n",
              "      <td>0</td>\n",
              "      <td>0</td>\n",
              "      <td>0</td>\n",
              "      <td>0</td>\n",
              "      <td>0</td>\n",
              "      <td>0</td>\n",
              "      <td>0</td>\n",
              "      <td>0</td>\n",
              "      <td>0</td>\n",
              "      <td>0</td>\n",
              "      <td>0</td>\n",
              "      <td>0</td>\n",
              "      <td>0</td>\n",
              "      <td>0</td>\n",
              "      <td>0</td>\n",
              "      <td>0</td>\n",
              "      <td>0</td>\n",
              "      <td>0</td>\n",
              "      <td>0</td>\n",
              "      <td>0</td>\n",
              "      <td>0</td>\n",
              "      <td>0</td>\n",
              "      <td>0</td>\n",
              "      <td>0</td>\n",
              "      <td>0</td>\n",
              "      <td>0</td>\n",
              "      <td>0</td>\n",
              "      <td>0</td>\n",
              "      <td>0</td>\n",
              "      <td>0</td>\n",
              "      <td>0</td>\n",
              "    </tr>\n",
              "    <tr>\n",
              "      <th>423728</th>\n",
              "      <td>59</td>\n",
              "      <td>22155</td>\n",
              "      <td>0</td>\n",
              "      <td>0</td>\n",
              "      <td>0</td>\n",
              "      <td>0</td>\n",
              "      <td>0</td>\n",
              "      <td>0</td>\n",
              "      <td>1</td>\n",
              "      <td>0</td>\n",
              "      <td>0</td>\n",
              "      <td>0</td>\n",
              "      <td>0</td>\n",
              "      <td>0</td>\n",
              "      <td>0</td>\n",
              "      <td>0</td>\n",
              "      <td>0</td>\n",
              "      <td>0</td>\n",
              "      <td>0</td>\n",
              "      <td>0</td>\n",
              "      <td>0</td>\n",
              "      <td>0</td>\n",
              "      <td>0</td>\n",
              "      <td>0</td>\n",
              "      <td>0</td>\n",
              "      <td>0</td>\n",
              "      <td>0</td>\n",
              "      <td>0</td>\n",
              "      <td>0</td>\n",
              "      <td>0</td>\n",
              "      <td>0</td>\n",
              "      <td>0</td>\n",
              "      <td>0</td>\n",
              "      <td>0</td>\n",
              "      <td>0</td>\n",
              "      <td>0</td>\n",
              "    </tr>\n",
              "    <tr>\n",
              "      <th>423729</th>\n",
              "      <td>59</td>\n",
              "      <td>22162</td>\n",
              "      <td>0</td>\n",
              "      <td>0</td>\n",
              "      <td>0</td>\n",
              "      <td>0</td>\n",
              "      <td>0</td>\n",
              "      <td>0</td>\n",
              "      <td>0</td>\n",
              "      <td>0</td>\n",
              "      <td>0</td>\n",
              "      <td>0</td>\n",
              "      <td>0</td>\n",
              "      <td>0</td>\n",
              "      <td>0</td>\n",
              "      <td>0</td>\n",
              "      <td>0</td>\n",
              "      <td>0</td>\n",
              "      <td>0</td>\n",
              "      <td>0</td>\n",
              "      <td>0</td>\n",
              "      <td>0</td>\n",
              "      <td>0</td>\n",
              "      <td>0</td>\n",
              "      <td>0</td>\n",
              "      <td>0</td>\n",
              "      <td>0</td>\n",
              "      <td>9</td>\n",
              "      <td>4</td>\n",
              "      <td>1</td>\n",
              "      <td>1</td>\n",
              "      <td>0</td>\n",
              "      <td>0</td>\n",
              "      <td>1</td>\n",
              "      <td>0</td>\n",
              "      <td>0</td>\n",
              "    </tr>\n",
              "    <tr>\n",
              "      <th>423730</th>\n",
              "      <td>59</td>\n",
              "      <td>22164</td>\n",
              "      <td>0</td>\n",
              "      <td>0</td>\n",
              "      <td>0</td>\n",
              "      <td>0</td>\n",
              "      <td>0</td>\n",
              "      <td>0</td>\n",
              "      <td>0</td>\n",
              "      <td>0</td>\n",
              "      <td>0</td>\n",
              "      <td>0</td>\n",
              "      <td>0</td>\n",
              "      <td>0</td>\n",
              "      <td>0</td>\n",
              "      <td>0</td>\n",
              "      <td>0</td>\n",
              "      <td>0</td>\n",
              "      <td>0</td>\n",
              "      <td>0</td>\n",
              "      <td>0</td>\n",
              "      <td>0</td>\n",
              "      <td>0</td>\n",
              "      <td>0</td>\n",
              "      <td>0</td>\n",
              "      <td>0</td>\n",
              "      <td>0</td>\n",
              "      <td>2</td>\n",
              "      <td>1</td>\n",
              "      <td>2</td>\n",
              "      <td>0</td>\n",
              "      <td>0</td>\n",
              "      <td>1</td>\n",
              "      <td>0</td>\n",
              "      <td>0</td>\n",
              "      <td>0</td>\n",
              "    </tr>\n",
              "    <tr>\n",
              "      <th>423731</th>\n",
              "      <td>59</td>\n",
              "      <td>22167</td>\n",
              "      <td>0</td>\n",
              "      <td>0</td>\n",
              "      <td>0</td>\n",
              "      <td>0</td>\n",
              "      <td>0</td>\n",
              "      <td>0</td>\n",
              "      <td>0</td>\n",
              "      <td>0</td>\n",
              "      <td>0</td>\n",
              "      <td>1</td>\n",
              "      <td>0</td>\n",
              "      <td>2</td>\n",
              "      <td>0</td>\n",
              "      <td>0</td>\n",
              "      <td>0</td>\n",
              "      <td>0</td>\n",
              "      <td>0</td>\n",
              "      <td>1</td>\n",
              "      <td>0</td>\n",
              "      <td>0</td>\n",
              "      <td>0</td>\n",
              "      <td>0</td>\n",
              "      <td>0</td>\n",
              "      <td>0</td>\n",
              "      <td>0</td>\n",
              "      <td>0</td>\n",
              "      <td>0</td>\n",
              "      <td>0</td>\n",
              "      <td>0</td>\n",
              "      <td>0</td>\n",
              "      <td>0</td>\n",
              "      <td>0</td>\n",
              "      <td>0</td>\n",
              "      <td>0</td>\n",
              "    </tr>\n",
              "  </tbody>\n",
              "</table>\n",
              "</div>"
            ],
            "text/plain": [
              "date_block_num  shop_id  item_id  0  1  2  3  4  ...  27  28  29  30  31  32  33\n",
              "423727               59    22154  1  0  0  0  0  ...   0   0   0   0   0   0   0\n",
              "423728               59    22155  0  0  0  0  0  ...   0   0   0   0   0   0   0\n",
              "423729               59    22162  0  0  0  0  0  ...   1   1   0   0   1   0   0\n",
              "423730               59    22164  0  0  0  0  0  ...   2   0   0   1   0   0   0\n",
              "423731               59    22167  0  0  0  0  0  ...   0   0   0   0   0   0   0\n",
              "\n",
              "[5 rows x 36 columns]"
            ]
          },
          "metadata": {
            "tags": []
          },
          "execution_count": 40
        }
      ]
    },
    {
      "cell_type": "markdown",
      "metadata": {
        "id": "7w0GwrSn4UKu",
        "colab_type": "text"
      },
      "source": [
        "##### Sub-sampling train set to get only the last year of data and reduce training time. \n",
        "##### We currently have for each unique pair of \"shop_id\" and \"item_id\", but we will subsample it to generate multiple series of size 12 (1 year) for each unique pair \n",
        "\n"
      ]
    },
    {
      "cell_type": "code",
      "metadata": {
        "id": "LS7q1xxNBRI1",
        "colab_type": "code",
        "colab": {
          "base_uri": "https://localhost:8080/",
          "height": 195
        },
        "outputId": "0d6f17be-38ce-48f4-9bb9-850b71e50b75"
      },
      "source": [
        "first_month = 20\n",
        "last_month = 33\n",
        "serie_size = 12\n",
        "data_series = []\n",
        "\n",
        "for index, row in monthly_series.iterrows():\n",
        "    for month1 in range((last_month - (first_month + serie_size)) + 1):\n",
        "        serie = [row['shop_id'], row['item_id']]\n",
        "        for month2 in range(serie_size + 1):\n",
        "            serie.append(row[month1 + first_month + month2])\n",
        "        data_series.append(serie)\n",
        "\n",
        "columns = ['shop_id', 'item_id']\n",
        "[columns.append(i) for i in range(serie_size)]\n",
        "columns.append('label')\n",
        "\n",
        "data_series = pd.DataFrame(data_series, columns=columns)\n",
        "data_series.head()"
      ],
      "execution_count": 41,
      "outputs": [
        {
          "output_type": "execute_result",
          "data": {
            "text/html": [
              "<div>\n",
              "<style scoped>\n",
              "    .dataframe tbody tr th:only-of-type {\n",
              "        vertical-align: middle;\n",
              "    }\n",
              "\n",
              "    .dataframe tbody tr th {\n",
              "        vertical-align: top;\n",
              "    }\n",
              "\n",
              "    .dataframe thead th {\n",
              "        text-align: right;\n",
              "    }\n",
              "</style>\n",
              "<table border=\"1\" class=\"dataframe\">\n",
              "  <thead>\n",
              "    <tr style=\"text-align: right;\">\n",
              "      <th></th>\n",
              "      <th>shop_id</th>\n",
              "      <th>item_id</th>\n",
              "      <th>0</th>\n",
              "      <th>1</th>\n",
              "      <th>2</th>\n",
              "      <th>3</th>\n",
              "      <th>4</th>\n",
              "      <th>5</th>\n",
              "      <th>6</th>\n",
              "      <th>7</th>\n",
              "      <th>8</th>\n",
              "      <th>9</th>\n",
              "      <th>10</th>\n",
              "      <th>11</th>\n",
              "      <th>label</th>\n",
              "    </tr>\n",
              "  </thead>\n",
              "  <tbody>\n",
              "    <tr>\n",
              "      <th>0</th>\n",
              "      <td>0</td>\n",
              "      <td>31</td>\n",
              "      <td>0</td>\n",
              "      <td>0</td>\n",
              "      <td>0</td>\n",
              "      <td>0</td>\n",
              "      <td>0</td>\n",
              "      <td>0</td>\n",
              "      <td>0</td>\n",
              "      <td>0</td>\n",
              "      <td>0</td>\n",
              "      <td>0</td>\n",
              "      <td>0</td>\n",
              "      <td>0</td>\n",
              "      <td>0</td>\n",
              "    </tr>\n",
              "    <tr>\n",
              "      <th>1</th>\n",
              "      <td>0</td>\n",
              "      <td>31</td>\n",
              "      <td>0</td>\n",
              "      <td>0</td>\n",
              "      <td>0</td>\n",
              "      <td>0</td>\n",
              "      <td>0</td>\n",
              "      <td>0</td>\n",
              "      <td>0</td>\n",
              "      <td>0</td>\n",
              "      <td>0</td>\n",
              "      <td>0</td>\n",
              "      <td>0</td>\n",
              "      <td>0</td>\n",
              "      <td>0</td>\n",
              "    </tr>\n",
              "    <tr>\n",
              "      <th>2</th>\n",
              "      <td>0</td>\n",
              "      <td>32</td>\n",
              "      <td>0</td>\n",
              "      <td>0</td>\n",
              "      <td>0</td>\n",
              "      <td>0</td>\n",
              "      <td>0</td>\n",
              "      <td>0</td>\n",
              "      <td>0</td>\n",
              "      <td>0</td>\n",
              "      <td>0</td>\n",
              "      <td>0</td>\n",
              "      <td>0</td>\n",
              "      <td>0</td>\n",
              "      <td>0</td>\n",
              "    </tr>\n",
              "    <tr>\n",
              "      <th>3</th>\n",
              "      <td>0</td>\n",
              "      <td>32</td>\n",
              "      <td>0</td>\n",
              "      <td>0</td>\n",
              "      <td>0</td>\n",
              "      <td>0</td>\n",
              "      <td>0</td>\n",
              "      <td>0</td>\n",
              "      <td>0</td>\n",
              "      <td>0</td>\n",
              "      <td>0</td>\n",
              "      <td>0</td>\n",
              "      <td>0</td>\n",
              "      <td>0</td>\n",
              "      <td>0</td>\n",
              "    </tr>\n",
              "    <tr>\n",
              "      <th>4</th>\n",
              "      <td>0</td>\n",
              "      <td>33</td>\n",
              "      <td>0</td>\n",
              "      <td>0</td>\n",
              "      <td>0</td>\n",
              "      <td>0</td>\n",
              "      <td>0</td>\n",
              "      <td>0</td>\n",
              "      <td>0</td>\n",
              "      <td>0</td>\n",
              "      <td>0</td>\n",
              "      <td>0</td>\n",
              "      <td>0</td>\n",
              "      <td>0</td>\n",
              "      <td>0</td>\n",
              "    </tr>\n",
              "  </tbody>\n",
              "</table>\n",
              "</div>"
            ],
            "text/plain": [
              "   shop_id  item_id  0  1  2  3  4  5  6  7  8  9  10  11  label\n",
              "0        0       31  0  0  0  0  0  0  0  0  0  0   0   0      0\n",
              "1        0       31  0  0  0  0  0  0  0  0  0  0   0   0      0\n",
              "2        0       32  0  0  0  0  0  0  0  0  0  0   0   0      0\n",
              "3        0       32  0  0  0  0  0  0  0  0  0  0   0   0      0\n",
              "4        0       33  0  0  0  0  0  0  0  0  0  0   0   0      0"
            ]
          },
          "metadata": {
            "tags": []
          },
          "execution_count": 41
        }
      ]
    },
    {
      "cell_type": "markdown",
      "metadata": {
        "id": "nACPKuna9FNc",
        "colab_type": "text"
      },
      "source": [
        "##### Dropping identifier columns as we don't need them anymore.\n"
      ]
    },
    {
      "cell_type": "code",
      "metadata": {
        "id": "pI-5reGWBZq9",
        "colab_type": "code",
        "colab": {}
      },
      "source": [
        "data_series = data_series.drop(['item_id', 'shop_id'], axis=1)"
      ],
      "execution_count": 0,
      "outputs": []
    },
    {
      "cell_type": "markdown",
      "metadata": {
        "id": "wcGHMqLO9IlZ",
        "colab_type": "text"
      },
      "source": [
        "##### Train and validation sets.\n"
      ]
    },
    {
      "cell_type": "code",
      "metadata": {
        "id": "Sx99cv0kB8-T",
        "colab_type": "code",
        "colab": {}
      },
      "source": [
        "labels = data_series['label']\n",
        "data_series.drop('label', axis=1, inplace=True)\n",
        "train, valid, Y_train, Y_valid = train_test_split(data_series, labels.values, test_size=0.10, random_state=0)"
      ],
      "execution_count": 0,
      "outputs": []
    },
    {
      "cell_type": "markdown",
      "metadata": {
        "id": "2wn5wvYT9aUP",
        "colab_type": "text"
      },
      "source": [
        "##### Reshape data as Time Series Feature Set\n",
        "##### Time-series shape (data points, time-steps, features).\n",
        "##### This is important since the LSTM model we will be developing accepts 3 dimensional input.\n"
      ]
    },
    {
      "cell_type": "code",
      "metadata": {
        "id": "rQvFkzn4CD4W",
        "colab_type": "code",
        "colab": {
          "base_uri": "https://localhost:8080/",
          "height": 50
        },
        "outputId": "d31d54a5-dcf2-4bc7-f638-4b15b4513274"
      },
      "source": [
        "X_train = train.values.reshape((train.shape[0], train.shape[1], 1))\n",
        "X_valid = valid.values.reshape((valid.shape[0], valid.shape[1], 1))\n",
        "print(\"Train set reshaped\", X_train.shape)\n",
        "print(\"Validation set reshaped\", X_valid.shape)"
      ],
      "execution_count": 44,
      "outputs": [
        {
          "output_type": "stream",
          "text": [
            "Train set reshaped (762717, 12, 1)\n",
            "Validation set reshaped (84747, 12, 1)\n"
          ],
          "name": "stdout"
        }
      ]
    },
    {
      "cell_type": "markdown",
      "metadata": {
        "id": "fdFDR4Si-Rp8",
        "colab_type": "text"
      },
      "source": [
        "### Building Models\n"
      ]
    },
    {
      "cell_type": "markdown",
      "metadata": {
        "id": "rhVr5aiq-WGM",
        "colab_type": "text"
      },
      "source": [
        "#### First approach will be a regular LSTM (Long Short Term Memory Cells) model. \n",
        "##### The intuition behind this is that, since we have a time series dataset, and we want to predict the next sequence(next month's sales), given a particular sequence(current's months sales), a LSTM model might work well. \n",
        "##### LSTM models have a nice feature of capturing and sustaining long term dependencies in sequential data, as compared to regular Recurrent Neural Networks "
      ]
    },
    {
      "cell_type": "markdown",
      "metadata": {
        "id": "gaoIR_IaE1sq",
        "colab_type": "text"
      },
      "source": [
        "#### Model description:\n",
        "\n",
        "##### We will define the number of input time steps as 3 and the number of features as 1 via the input_shape argument on the first hidden layer.\n",
        "\n",
        "##### We will use one LSTM layer to process each input sub-sequence of 3 time steps, followed by a Dense layer to interpret the summary of the input sequence. The model uses the efficient Adam version of stochastic gradient descent and optimizes the mean squared error (‘mse‘) loss function.\n",
        "\n",
        "##### A detailed tutorial for using LSTM models for time series prediction is given here: https://machinelearningmastery.com/how-to-get-started-with-deep-learning-for-time-series-forecasting-7-day-mini-course/\n"
      ]
    },
    {
      "cell_type": "markdown",
      "metadata": {
        "id": "rhcwKw2G_2is",
        "colab_type": "text"
      },
      "source": [
        "##### Setting hyperparameters for our models\n",
        "\n"
      ]
    },
    {
      "cell_type": "code",
      "metadata": {
        "id": "s0SyCvfBFkZP",
        "colab_type": "code",
        "colab": {}
      },
      "source": [
        "epochs = 10\n",
        "batch = 256\n",
        "lr = 0.0003\n",
        "adam = optimizers.Adam(lr)"
      ],
      "execution_count": 0,
      "outputs": []
    },
    {
      "cell_type": "code",
      "metadata": {
        "id": "ZRe4RqAVCULx",
        "colab_type": "code",
        "colab": {
          "base_uri": "https://localhost:8080/",
          "height": 850
        },
        "outputId": "ab25bdc6-7f8b-44c3-842c-548912c5ab11"
      },
      "source": [
        "model_lstm = Sequential()\n",
        "model_lstm.add(LSTM(50, activation='relu', input_shape=(X_train.shape[1], X_train.shape[2])))\n",
        "model_lstm.add(Dense(1))\n",
        "model_lstm.compile(loss='mse', optimizer=adam,metrics = ['accuracy'])\n",
        "model_lstm.summary()\n",
        "\n",
        "plot_model(model_lstm, show_shapes=True, to_file='regular_lstm.png')"
      ],
      "execution_count": 48,
      "outputs": [
        {
          "output_type": "stream",
          "text": [
            "Model: \"sequential_2\"\n",
            "_________________________________________________________________\n",
            "Layer (type)                 Output Shape              Param #   \n",
            "=================================================================\n",
            "lstm_4 (LSTM)                (None, 50)                10400     \n",
            "_________________________________________________________________\n",
            "dense_4 (Dense)              (None, 1)                 51        \n",
            "=================================================================\n",
            "Total params: 10,451\n",
            "Trainable params: 10,451\n",
            "Non-trainable params: 0\n",
            "_________________________________________________________________\n",
            "Model: \"sequential_3\"\n",
            "_________________________________________________________________\n",
            "Layer (type)                 Output Shape              Param #   \n",
            "=================================================================\n",
            "lstm_5 (LSTM)                (None, 12, 10)            480       \n",
            "_________________________________________________________________\n",
            "lstm_6 (LSTM)                (None, 12, 6)             408       \n",
            "_________________________________________________________________\n",
            "lstm_7 (LSTM)                (None, 1)                 32        \n",
            "_________________________________________________________________\n",
            "dense_5 (Dense)              (None, 10)                20        \n",
            "_________________________________________________________________\n",
            "dense_6 (Dense)              (None, 10)                110       \n",
            "_________________________________________________________________\n",
            "dense_7 (Dense)              (None, 1)                 11        \n",
            "=================================================================\n",
            "Total params: 1,061\n",
            "Trainable params: 1,061\n",
            "Non-trainable params: 0\n",
            "_________________________________________________________________\n"
          ],
          "name": "stdout"
        },
        {
          "output_type": "execute_result",
          "data": {
            "image/png": "[encoded data removed]",
            "text/plain": [
              "<IPython.core.display.Image object>"
            ]
          },
          "metadata": {
            "tags": []
          },
          "execution_count": 48
        }
      ]
    },
    {
      "cell_type": "markdown",
      "metadata": {
        "id": "HVpOgURgBd9z",
        "colab_type": "text"
      },
      "source": [
        "##### Fit model"
      ]
    },
    {
      "cell_type": "code",
      "metadata": {
        "id": "a6XqkvEjClQT",
        "colab_type": "code",
        "colab": {
          "base_uri": "https://localhost:8080/",
          "height": 370
        },
        "outputId": "bd253714-32f8-4906-83d1-8f0544291540"
      },
      "source": [
        "lstm_history = model_lstm.fit(X_train, Y_train, epochs=epochs, batch_size=batch, validation_data=(X_valid, Y_valid), verbose=2)"
      ],
      "execution_count": 49,
      "outputs": [
        {
          "output_type": "stream",
          "text": [
            "Train on 762717 samples, validate on 84747 samples\n",
            "Epoch 1/10\n",
            " - 75s - loss: 0.3808 - acc: 0.9195 - val_loss: 0.3780 - val_acc: 0.9198\n",
            "Epoch 2/10\n",
            " - 74s - loss: 0.3734 - acc: 0.9192 - val_loss: 0.3758 - val_acc: 0.9190\n",
            "Epoch 3/10\n",
            " - 74s - loss: 0.3725 - acc: 0.9194 - val_loss: 0.3754 - val_acc: 0.9202\n",
            "Epoch 4/10\n",
            " - 74s - loss: 0.3718 - acc: 0.9195 - val_loss: 0.3765 - val_acc: 0.9201\n",
            "Epoch 5/10\n",
            " - 73s - loss: 0.3713 - acc: 0.9195 - val_loss: 0.3762 - val_acc: 0.9204\n",
            "Epoch 6/10\n",
            " - 74s - loss: 0.3710 - acc: 0.9196 - val_loss: 0.3762 - val_acc: 0.9204\n",
            "Epoch 7/10\n",
            " - 74s - loss: 0.3703 - acc: 0.9199 - val_loss: 0.3759 - val_acc: 0.9205\n",
            "Epoch 8/10\n",
            " - 74s - loss: 0.3700 - acc: 0.9199 - val_loss: 0.3755 - val_acc: 0.9203\n",
            "Epoch 9/10\n",
            " - 73s - loss: 0.3702 - acc: 0.9198 - val_loss: 0.3740 - val_acc: 0.9210\n",
            "Epoch 10/10\n",
            " - 73s - loss: 0.3698 - acc: 0.9200 - val_loss: 0.3755 - val_acc: 0.9197\n"
          ],
          "name": "stdout"
        }
      ]
    },
    {
      "cell_type": "markdown",
      "metadata": {
        "id": "oYtMjLZLBy4N",
        "colab_type": "text"
      },
      "source": [
        "#### Model evaluation\n",
        "\n"
      ]
    },
    {
      "cell_type": "code",
      "metadata": {
        "id": "f1snW8cOUsI8",
        "colab_type": "code",
        "colab": {
          "base_uri": "https://localhost:8080/",
          "height": 50
        },
        "outputId": "1da2cb50-773d-4ac9-f12c-af07752a3e22"
      },
      "source": [
        "# Evaluating loss, accuracy\n",
        "score_lstm = model_lstm.evaluate(X_valid,Y_valid)\n",
        "score_lstm"
      ],
      "execution_count": 54,
      "outputs": [
        {
          "output_type": "stream",
          "text": [
            "84747/84747 [==============================] - 28s 333us/step\n"
          ],
          "name": "stdout"
        },
        {
          "output_type": "execute_result",
          "data": {
            "text/plain": [
              "[0.3755022277545913, 0.9197257720037287]"
            ]
          },
          "metadata": {
            "tags": []
          },
          "execution_count": 54
        }
      ]
    },
    {
      "cell_type": "markdown",
      "metadata": {
        "id": "p3TEt-q2DHMM",
        "colab_type": "text"
      },
      "source": [
        "#### **Result for 10 epochs**\n",
        "\n",
        "##### **Loss: 0.375**\n",
        "##### **Accuracy: 91.97%**\n",
        "\n",
        "\n",
        "\n"
      ]
    },
    {
      "cell_type": "markdown",
      "metadata": {
        "id": "W5KLteNFD8yp",
        "colab_type": "text"
      },
      "source": [
        "##### Comparing RMSE Score for training and validation data\n"
      ]
    },
    {
      "cell_type": "code",
      "metadata": {
        "id": "sBp0DRXUD6BR",
        "colab_type": "code",
        "colab": {
          "base_uri": "https://localhost:8080/",
          "height": 50
        },
        "outputId": "31a9bdf8-2dc0-4b8a-d4a6-f3d29343c367"
      },
      "source": [
        "lstm_train_pred = model_lstm.predict(X_train)\n",
        "lstm_val_pred = model_lstm.predict(X_valid)\n",
        "print('Train rmse:', np.sqrt(mean_squared_error(Y_train, lstm_train_pred)))\n",
        "print('Validation rmse:', np.sqrt(mean_squared_error(Y_valid, lstm_val_pred)))"
      ],
      "execution_count": 114,
      "outputs": [
        {
          "output_type": "stream",
          "text": [
            "Train rmse: 0.6089099063317909\n",
            "Validation rmse: 0.6127823677981545\n"
          ],
          "name": "stdout"
        }
      ]
    },
    {
      "cell_type": "markdown",
      "metadata": {
        "id": "W0lDLn6YFYia",
        "colab_type": "text"
      },
      "source": [
        "#### Our second approach is going to be a Time Distributed CNN LSTM Model\n",
        "\n",
        "#### Model description\n",
        "\n",
        "##### The benefit of this model is that the model can support very long input sequences that can be read as blocks or subsequences by the CNN model, then pieced together by the LSTM model.\n",
        "##### When using a hybrid CNN-LSTM model, we will further divide each sample into further subsequences. The CNN model will interpret each sub-sequence and the LSTM will piece together the interpretations from the subsequences. As such,we will split each sample into 2 subsequences of 2 times per subsequence.\n",
        "\n",
        "##### The CNN will be defined to expect 2 time steps per subsequence with one feature. The entire CNN model is then wrapped in TimeDistributed wrapper layers so that it can be applied to each subsequence in the sample. The results are then interpreted by the LSTM layer before the model outputs a prediction.\n",
        "\n",
        "##### The model uses the efficient Adam version of stochastic gradient descent and optimizes the mean squared error (‘mse’) loss function.\n"
      ]
    },
    {
      "cell_type": "code",
      "metadata": {
        "id": "IyMthD3QC8YV",
        "colab_type": "code",
        "colab": {
          "base_uri": "https://localhost:8080/",
          "height": 50
        },
        "outputId": "b8ac0981-b11f-44e1-9809-df97b3223697"
      },
      "source": [
        "subsequences = 2\n",
        "timesteps = X_train.shape[1]//subsequences\n",
        "X_train_sub = X_train.reshape((X_train.shape[0], subsequences, timesteps, 1))\n",
        "X_valid_sub = X_valid.reshape((X_valid.shape[0], subsequences, timesteps, 1))\n",
        "print('Train set shape', X_train_sub.shape)\n",
        "print('Validation set shape', X_valid_sub.shape)"
      ],
      "execution_count": 50,
      "outputs": [
        {
          "output_type": "stream",
          "text": [
            "Train set shape (762717, 2, 6, 1)\n",
            "Validation set shape (84747, 2, 6, 1)\n"
          ],
          "name": "stdout"
        }
      ]
    },
    {
      "cell_type": "code",
      "metadata": {
        "id": "q9cGaiJ1MrKB",
        "colab_type": "code",
        "colab": {
          "base_uri": "https://localhost:8080/",
          "height": 946
        },
        "outputId": "d5b93712-b33c-4b20-ae04-13283253358d"
      },
      "source": [
        "model_cnn_lstm = Sequential()\n",
        "model_cnn_lstm.add(TimeDistributed(Conv1D(filters=64, kernel_size=1, activation='relu'), input_shape=(None, X_train_sub.shape[2], X_train_sub.shape[3])))\n",
        "model_cnn_lstm.add(TimeDistributed(MaxPooling1D(pool_size=2)))\n",
        "model_cnn_lstm.add(TimeDistributed(Flatten()))\n",
        "model_cnn_lstm.add(LSTM(50, activation='relu'))\n",
        "model_cnn_lstm.add(Dense(1))\n",
        "model_cnn_lstm.compile(loss='mse', optimizer=adam,metrics=['accuracy'])\n",
        "model_cnn_lstm.summary()\n",
        "plot_model(model_cnn_lstm, show_shapes=True, to_file='cnn_lstm.png')"
      ],
      "execution_count": 85,
      "outputs": [
        {
          "output_type": "stream",
          "text": [
            "Model: \"sequential_12\"\n",
            "_________________________________________________________________\n",
            "Layer (type)                 Output Shape              Param #   \n",
            "=================================================================\n",
            "time_distributed_22 (TimeDis (None, None, 6, 64)       128       \n",
            "_________________________________________________________________\n",
            "time_distributed_23 (TimeDis (None, None, 3, 64)       0         \n",
            "_________________________________________________________________\n",
            "time_distributed_24 (TimeDis (None, None, 192)         0         \n",
            "_________________________________________________________________\n",
            "lstm_15 (LSTM)               (None, 50)                48600     \n",
            "_________________________________________________________________\n",
            "dense_15 (Dense)             (None, 1)                 51        \n",
            "=================================================================\n",
            "Total params: 48,779\n",
            "Trainable params: 48,779\n",
            "Non-trainable params: 0\n",
            "_________________________________________________________________\n"
          ],
          "name": "stdout"
        },
        {
          "output_type": "execute_result",
          "data": {
            "image/png": "[encoded data removed]",
            "text/plain": [
              "<IPython.core.display.Image object>"
            ]
          },
          "metadata": {
            "tags": []
          },
          "execution_count": 85
        }
      ]
    },
    {
      "cell_type": "code",
      "metadata": {
        "id": "-9hXmdkxMzJY",
        "colab_type": "code",
        "colab": {
          "base_uri": "https://localhost:8080/",
          "height": 370
        },
        "outputId": "91ae5f8b-09ec-4963-a59f-8552721c7ec1"
      },
      "source": [
        "cnn_lstm_history = model_cnn_lstm.fit(X_train_sub, Y_train, validation_data=(X_valid_sub, Y_valid), epochs=epochs, verbose=2)"
      ],
      "execution_count": 77,
      "outputs": [
        {
          "output_type": "stream",
          "text": [
            "Train on 762717 samples, validate on 84747 samples\n",
            "Epoch 1/10\n",
            " - 197s - loss: 0.3832 - acc: 0.9188 - val_loss: 0.3838 - val_acc: 0.9171\n",
            "Epoch 2/10\n",
            " - 195s - loss: 0.3803 - acc: 0.9190 - val_loss: 0.3817 - val_acc: 0.9197\n",
            "Epoch 3/10\n",
            " - 195s - loss: 0.3789 - acc: 0.9192 - val_loss: 0.3809 - val_acc: 0.9201\n",
            "Epoch 4/10\n",
            " - 195s - loss: 0.3779 - acc: 0.9194 - val_loss: 0.3805 - val_acc: 0.9208\n",
            "Epoch 5/10\n",
            " - 195s - loss: 0.3775 - acc: 0.9198 - val_loss: 0.3802 - val_acc: 0.9211\n",
            "Epoch 6/10\n",
            " - 195s - loss: 0.3775 - acc: 0.9195 - val_loss: 0.3794 - val_acc: 0.9204\n",
            "Epoch 7/10\n",
            " - 195s - loss: 0.3765 - acc: 0.9196 - val_loss: 0.3797 - val_acc: 0.9200\n",
            "Epoch 8/10\n",
            " - 195s - loss: 0.3762 - acc: 0.9194 - val_loss: 0.3795 - val_acc: 0.9213\n",
            "Epoch 9/10\n",
            " - 195s - loss: 0.3758 - acc: 0.9197 - val_loss: 0.3789 - val_acc: 0.9194\n",
            "Epoch 10/10\n",
            " - 195s - loss: 0.3759 - acc: 0.9197 - val_loss: 0.3790 - val_acc: 0.9214\n"
          ],
          "name": "stdout"
        }
      ]
    },
    {
      "cell_type": "code",
      "metadata": {
        "id": "w_ZxGu7TM56O",
        "colab_type": "code",
        "colab": {
          "base_uri": "https://localhost:8080/",
          "height": 50
        },
        "outputId": "3048f74d-256b-49ad-d077-b783711da3ce"
      },
      "source": [
        "score_cnn_lstm = model_cnn_lstm.evaluate(X_valid_sub,Y_valid)\n",
        "score_cnn_lstm"
      ],
      "execution_count": 78,
      "outputs": [
        {
          "output_type": "stream",
          "text": [
            "84747/84747 [==============================] - 7s 80us/step\n"
          ],
          "name": "stdout"
        },
        {
          "output_type": "execute_result",
          "data": {
            "text/plain": [
              "[0.3789629117040016, 0.9213777478848809]"
            ]
          },
          "metadata": {
            "tags": []
          },
          "execution_count": 78
        }
      ]
    },
    {
      "cell_type": "markdown",
      "metadata": {
        "id": "Mpk3bRXv_U47",
        "colab_type": "text"
      },
      "source": [
        "#### **Results**\n",
        "##### **Accuracy: 92.13%**\n",
        "##### **Loss: 0.378**\n"
      ]
    },
    {
      "cell_type": "markdown",
      "metadata": {
        "id": "a_tccggd_Qo9",
        "colab_type": "text"
      },
      "source": [
        "#### Comparing RMSE for training and testing data\n"
      ]
    },
    {
      "cell_type": "code",
      "metadata": {
        "id": "sA7i35wmVnmT",
        "colab_type": "code",
        "colab": {
          "base_uri": "https://localhost:8080/",
          "height": 50
        },
        "outputId": "8c4df35a-f6c6-448e-c4a6-3b84c237669b"
      },
      "source": [
        "cnn_lstm_train_pred = model_cnn_lstm.predict(X_train_sub)\n",
        "cnn_lstm_val_pred = model_cnn_lstm.predict(X_valid_sub)\n",
        "print('Train rmse:', np.sqrt(mean_squared_error(Y_train, cnn_lstm_train_pred)))\n",
        "print('Validation rmse:', np.sqrt(mean_squared_error(Y_valid, cnn_lstm_val_pred)))"
      ],
      "execution_count": 117,
      "outputs": [
        {
          "output_type": "stream",
          "text": [
            "Train rmse: 0.6104321160298515\n",
            "Validation rmse: 0.6158445402175854\n"
          ],
          "name": "stdout"
        }
      ]
    },
    {
      "cell_type": "markdown",
      "metadata": {
        "id": "05euBrgUe1TM",
        "colab_type": "text"
      },
      "source": [
        "### Visualizing raining and testing losses in the form of mean squared error\n",
        "\n"
      ]
    },
    {
      "cell_type": "code",
      "metadata": {
        "id": "Cl_ghgKICOlC",
        "colab_type": "code",
        "colab": {
          "base_uri": "https://localhost:8080/",
          "height": 475
        },
        "outputId": "fa654917-9489-4039-f3a3-4cdda652a1a7"
      },
      "source": [
        "fig, (ax1, ax2) = plt.subplots(1, 2, sharey=True,figsize=(22,7))\n",
        "\n",
        "ax1.plot(lstm_history.history['loss'], label='Train loss')\n",
        "ax1.plot(lstm_history.history['val_loss'], label='Validation loss')\n",
        "ax1.legend(loc='best')\n",
        "ax1.set_title('Regular LSTM')\n",
        "ax1.set_xlabel('Epochs')\n",
        "ax1.set_ylabel('MSE')\n",
        "\n",
        "ax2.plot(cnn_lstm_history.history['loss'], label='Train loss')\n",
        "ax2.plot(cnn_lstm_history.history['val_loss'], label='Validation loss')\n",
        "ax2.legend(loc='best')\n",
        "ax2.set_title('Time distributed CNN LSTM')\n",
        "ax2.set_xlabel('Epochs')\n",
        "ax2.set_ylabel('MSE')"
      ],
      "execution_count": 118,
      "outputs": [
        {
          "output_type": "execute_result",
          "data": {
            "text/plain": [
              "Text(0, 0.5, 'MSE')"
            ]
          },
          "metadata": {
            "tags": []
          },
          "execution_count": 118
        },
        {
          "output_type": "display_data",
          "data": {
            "image/png": "[encoded data removed]",
            "text/plain": [
              "<Figure size 1584x504 with 2 Axes>"
            ]
          },
          "metadata": {
            "tags": []
          }
        }
      ]
    },
    {
      "cell_type": "markdown",
      "metadata": {
        "id": "nizeH8lcfEUu",
        "colab_type": "text"
      },
      "source": [
        "#### Preparing test data to make predictions on it \n"
      ]
    },
    {
      "cell_type": "markdown",
      "metadata": {
        "id": "zmYezlgHfOlG",
        "colab_type": "text"
      },
      "source": [
        "##### We will first visualise the monthly sales\n",
        "\n"
      ]
    },
    {
      "cell_type": "code",
      "metadata": {
        "id": "glv21y-qXk0J",
        "colab_type": "code",
        "colab": {
          "base_uri": "https://localhost:8080/",
          "height": 195
        },
        "outputId": "c38e5879-84bd-4852-becd-da9fd454693e"
      },
      "source": [
        "latest_records = monthly_series.drop_duplicates(subset=['shop_id', 'item_id'])\n",
        "X_test = pd.merge(test_data, latest_records, on=['shop_id', 'item_id'], how='left', suffixes=['', '_'])\n",
        "X_test.fillna(0, inplace=True)\n",
        "X_test.drop(['ID', 'item_id', 'shop_id'], axis=1, inplace=True)\n",
        "X_test.head()"
      ],
      "execution_count": 64,
      "outputs": [
        {
          "output_type": "execute_result",
          "data": {
            "text/html": [
              "<div>\n",
              "<style scoped>\n",
              "    .dataframe tbody tr th:only-of-type {\n",
              "        vertical-align: middle;\n",
              "    }\n",
              "\n",
              "    .dataframe tbody tr th {\n",
              "        vertical-align: top;\n",
              "    }\n",
              "\n",
              "    .dataframe thead th {\n",
              "        text-align: right;\n",
              "    }\n",
              "</style>\n",
              "<table border=\"1\" class=\"dataframe\">\n",
              "  <thead>\n",
              "    <tr style=\"text-align: right;\">\n",
              "      <th></th>\n",
              "      <th>0</th>\n",
              "      <th>1</th>\n",
              "      <th>2</th>\n",
              "      <th>3</th>\n",
              "      <th>4</th>\n",
              "      <th>5</th>\n",
              "      <th>6</th>\n",
              "      <th>7</th>\n",
              "      <th>8</th>\n",
              "      <th>9</th>\n",
              "      <th>10</th>\n",
              "      <th>11</th>\n",
              "      <th>12</th>\n",
              "      <th>13</th>\n",
              "      <th>14</th>\n",
              "      <th>15</th>\n",
              "      <th>16</th>\n",
              "      <th>17</th>\n",
              "      <th>18</th>\n",
              "      <th>19</th>\n",
              "      <th>20</th>\n",
              "      <th>21</th>\n",
              "      <th>22</th>\n",
              "      <th>23</th>\n",
              "      <th>24</th>\n",
              "      <th>25</th>\n",
              "      <th>26</th>\n",
              "      <th>27</th>\n",
              "      <th>28</th>\n",
              "      <th>29</th>\n",
              "      <th>30</th>\n",
              "      <th>31</th>\n",
              "      <th>32</th>\n",
              "      <th>33</th>\n",
              "    </tr>\n",
              "  </thead>\n",
              "  <tbody>\n",
              "    <tr>\n",
              "      <th>0</th>\n",
              "      <td>0.0</td>\n",
              "      <td>0.0</td>\n",
              "      <td>0.0</td>\n",
              "      <td>0.0</td>\n",
              "      <td>0.0</td>\n",
              "      <td>0.0</td>\n",
              "      <td>0.0</td>\n",
              "      <td>0.0</td>\n",
              "      <td>0.0</td>\n",
              "      <td>0.0</td>\n",
              "      <td>0.0</td>\n",
              "      <td>0.0</td>\n",
              "      <td>0.0</td>\n",
              "      <td>0.0</td>\n",
              "      <td>0.0</td>\n",
              "      <td>0.0</td>\n",
              "      <td>0.0</td>\n",
              "      <td>0.0</td>\n",
              "      <td>0.0</td>\n",
              "      <td>0.0</td>\n",
              "      <td>1.0</td>\n",
              "      <td>0.0</td>\n",
              "      <td>1.0</td>\n",
              "      <td>2.0</td>\n",
              "      <td>2.0</td>\n",
              "      <td>0.0</td>\n",
              "      <td>0.0</td>\n",
              "      <td>0.0</td>\n",
              "      <td>1.0</td>\n",
              "      <td>1.0</td>\n",
              "      <td>1.0</td>\n",
              "      <td>3.0</td>\n",
              "      <td>1.0</td>\n",
              "      <td>0.0</td>\n",
              "    </tr>\n",
              "    <tr>\n",
              "      <th>1</th>\n",
              "      <td>0.0</td>\n",
              "      <td>0.0</td>\n",
              "      <td>0.0</td>\n",
              "      <td>0.0</td>\n",
              "      <td>0.0</td>\n",
              "      <td>0.0</td>\n",
              "      <td>0.0</td>\n",
              "      <td>0.0</td>\n",
              "      <td>0.0</td>\n",
              "      <td>0.0</td>\n",
              "      <td>0.0</td>\n",
              "      <td>0.0</td>\n",
              "      <td>0.0</td>\n",
              "      <td>0.0</td>\n",
              "      <td>0.0</td>\n",
              "      <td>0.0</td>\n",
              "      <td>0.0</td>\n",
              "      <td>0.0</td>\n",
              "      <td>0.0</td>\n",
              "      <td>0.0</td>\n",
              "      <td>0.0</td>\n",
              "      <td>0.0</td>\n",
              "      <td>0.0</td>\n",
              "      <td>0.0</td>\n",
              "      <td>0.0</td>\n",
              "      <td>0.0</td>\n",
              "      <td>0.0</td>\n",
              "      <td>0.0</td>\n",
              "      <td>0.0</td>\n",
              "      <td>0.0</td>\n",
              "      <td>0.0</td>\n",
              "      <td>0.0</td>\n",
              "      <td>0.0</td>\n",
              "      <td>0.0</td>\n",
              "    </tr>\n",
              "    <tr>\n",
              "      <th>2</th>\n",
              "      <td>0.0</td>\n",
              "      <td>0.0</td>\n",
              "      <td>0.0</td>\n",
              "      <td>0.0</td>\n",
              "      <td>0.0</td>\n",
              "      <td>0.0</td>\n",
              "      <td>0.0</td>\n",
              "      <td>0.0</td>\n",
              "      <td>0.0</td>\n",
              "      <td>0.0</td>\n",
              "      <td>0.0</td>\n",
              "      <td>0.0</td>\n",
              "      <td>0.0</td>\n",
              "      <td>0.0</td>\n",
              "      <td>0.0</td>\n",
              "      <td>0.0</td>\n",
              "      <td>0.0</td>\n",
              "      <td>0.0</td>\n",
              "      <td>0.0</td>\n",
              "      <td>0.0</td>\n",
              "      <td>0.0</td>\n",
              "      <td>0.0</td>\n",
              "      <td>0.0</td>\n",
              "      <td>0.0</td>\n",
              "      <td>0.0</td>\n",
              "      <td>0.0</td>\n",
              "      <td>0.0</td>\n",
              "      <td>0.0</td>\n",
              "      <td>3.0</td>\n",
              "      <td>2.0</td>\n",
              "      <td>0.0</td>\n",
              "      <td>1.0</td>\n",
              "      <td>3.0</td>\n",
              "      <td>1.0</td>\n",
              "    </tr>\n",
              "    <tr>\n",
              "      <th>3</th>\n",
              "      <td>0.0</td>\n",
              "      <td>0.0</td>\n",
              "      <td>0.0</td>\n",
              "      <td>0.0</td>\n",
              "      <td>0.0</td>\n",
              "      <td>0.0</td>\n",
              "      <td>0.0</td>\n",
              "      <td>0.0</td>\n",
              "      <td>0.0</td>\n",
              "      <td>0.0</td>\n",
              "      <td>0.0</td>\n",
              "      <td>0.0</td>\n",
              "      <td>0.0</td>\n",
              "      <td>0.0</td>\n",
              "      <td>0.0</td>\n",
              "      <td>0.0</td>\n",
              "      <td>0.0</td>\n",
              "      <td>0.0</td>\n",
              "      <td>0.0</td>\n",
              "      <td>0.0</td>\n",
              "      <td>0.0</td>\n",
              "      <td>0.0</td>\n",
              "      <td>0.0</td>\n",
              "      <td>0.0</td>\n",
              "      <td>0.0</td>\n",
              "      <td>0.0</td>\n",
              "      <td>0.0</td>\n",
              "      <td>0.0</td>\n",
              "      <td>0.0</td>\n",
              "      <td>0.0</td>\n",
              "      <td>0.0</td>\n",
              "      <td>1.0</td>\n",
              "      <td>0.0</td>\n",
              "      <td>0.0</td>\n",
              "    </tr>\n",
              "    <tr>\n",
              "      <th>4</th>\n",
              "      <td>0.0</td>\n",
              "      <td>0.0</td>\n",
              "      <td>0.0</td>\n",
              "      <td>0.0</td>\n",
              "      <td>0.0</td>\n",
              "      <td>0.0</td>\n",
              "      <td>0.0</td>\n",
              "      <td>0.0</td>\n",
              "      <td>0.0</td>\n",
              "      <td>0.0</td>\n",
              "      <td>0.0</td>\n",
              "      <td>0.0</td>\n",
              "      <td>0.0</td>\n",
              "      <td>0.0</td>\n",
              "      <td>0.0</td>\n",
              "      <td>0.0</td>\n",
              "      <td>0.0</td>\n",
              "      <td>0.0</td>\n",
              "      <td>0.0</td>\n",
              "      <td>0.0</td>\n",
              "      <td>0.0</td>\n",
              "      <td>0.0</td>\n",
              "      <td>0.0</td>\n",
              "      <td>0.0</td>\n",
              "      <td>0.0</td>\n",
              "      <td>0.0</td>\n",
              "      <td>0.0</td>\n",
              "      <td>0.0</td>\n",
              "      <td>0.0</td>\n",
              "      <td>0.0</td>\n",
              "      <td>0.0</td>\n",
              "      <td>0.0</td>\n",
              "      <td>0.0</td>\n",
              "      <td>0.0</td>\n",
              "    </tr>\n",
              "  </tbody>\n",
              "</table>\n",
              "</div>"
            ],
            "text/plain": [
              "    0    1    2    3    4    5    6   ...   27   28   29   30   31   32   33\n",
              "0  0.0  0.0  0.0  0.0  0.0  0.0  0.0  ...  0.0  1.0  1.0  1.0  3.0  1.0  0.0\n",
              "1  0.0  0.0  0.0  0.0  0.0  0.0  0.0  ...  0.0  0.0  0.0  0.0  0.0  0.0  0.0\n",
              "2  0.0  0.0  0.0  0.0  0.0  0.0  0.0  ...  0.0  3.0  2.0  0.0  1.0  3.0  1.0\n",
              "3  0.0  0.0  0.0  0.0  0.0  0.0  0.0  ...  0.0  0.0  0.0  0.0  1.0  0.0  0.0\n",
              "4  0.0  0.0  0.0  0.0  0.0  0.0  0.0  ...  0.0  0.0  0.0  0.0  0.0  0.0  0.0\n",
              "\n",
              "[5 rows x 34 columns]"
            ]
          },
          "metadata": {
            "tags": []
          },
          "execution_count": 64
        }
      ]
    },
    {
      "cell_type": "markdown",
      "metadata": {
        "id": "ISW53R4DgVo3",
        "colab_type": "text"
      },
      "source": [
        "##### Since, we subsampled our data to look at previous one year only to predict future sales, let's fetch that range only \n"
      ]
    },
    {
      "cell_type": "code",
      "metadata": {
        "id": "zLbADwngZTbY",
        "colab_type": "code",
        "colab": {
          "base_uri": "https://localhost:8080/",
          "height": 195
        },
        "outputId": "23763820-d8a2-4abc-c80b-9a75a52ffcfb"
      },
      "source": [
        "X_test = X_test[[(i + (34 - serie_size)) for i in range(serie_size)]]\n",
        "X_test.head()"
      ],
      "execution_count": 65,
      "outputs": [
        {
          "output_type": "execute_result",
          "data": {
            "text/html": [
              "<div>\n",
              "<style scoped>\n",
              "    .dataframe tbody tr th:only-of-type {\n",
              "        vertical-align: middle;\n",
              "    }\n",
              "\n",
              "    .dataframe tbody tr th {\n",
              "        vertical-align: top;\n",
              "    }\n",
              "\n",
              "    .dataframe thead th {\n",
              "        text-align: right;\n",
              "    }\n",
              "</style>\n",
              "<table border=\"1\" class=\"dataframe\">\n",
              "  <thead>\n",
              "    <tr style=\"text-align: right;\">\n",
              "      <th></th>\n",
              "      <th>22</th>\n",
              "      <th>23</th>\n",
              "      <th>24</th>\n",
              "      <th>25</th>\n",
              "      <th>26</th>\n",
              "      <th>27</th>\n",
              "      <th>28</th>\n",
              "      <th>29</th>\n",
              "      <th>30</th>\n",
              "      <th>31</th>\n",
              "      <th>32</th>\n",
              "      <th>33</th>\n",
              "    </tr>\n",
              "  </thead>\n",
              "  <tbody>\n",
              "    <tr>\n",
              "      <th>0</th>\n",
              "      <td>1.0</td>\n",
              "      <td>2.0</td>\n",
              "      <td>2.0</td>\n",
              "      <td>0.0</td>\n",
              "      <td>0.0</td>\n",
              "      <td>0.0</td>\n",
              "      <td>1.0</td>\n",
              "      <td>1.0</td>\n",
              "      <td>1.0</td>\n",
              "      <td>3.0</td>\n",
              "      <td>1.0</td>\n",
              "      <td>0.0</td>\n",
              "    </tr>\n",
              "    <tr>\n",
              "      <th>1</th>\n",
              "      <td>0.0</td>\n",
              "      <td>0.0</td>\n",
              "      <td>0.0</td>\n",
              "      <td>0.0</td>\n",
              "      <td>0.0</td>\n",
              "      <td>0.0</td>\n",
              "      <td>0.0</td>\n",
              "      <td>0.0</td>\n",
              "      <td>0.0</td>\n",
              "      <td>0.0</td>\n",
              "      <td>0.0</td>\n",
              "      <td>0.0</td>\n",
              "    </tr>\n",
              "    <tr>\n",
              "      <th>2</th>\n",
              "      <td>0.0</td>\n",
              "      <td>0.0</td>\n",
              "      <td>0.0</td>\n",
              "      <td>0.0</td>\n",
              "      <td>0.0</td>\n",
              "      <td>0.0</td>\n",
              "      <td>3.0</td>\n",
              "      <td>2.0</td>\n",
              "      <td>0.0</td>\n",
              "      <td>1.0</td>\n",
              "      <td>3.0</td>\n",
              "      <td>1.0</td>\n",
              "    </tr>\n",
              "    <tr>\n",
              "      <th>3</th>\n",
              "      <td>0.0</td>\n",
              "      <td>0.0</td>\n",
              "      <td>0.0</td>\n",
              "      <td>0.0</td>\n",
              "      <td>0.0</td>\n",
              "      <td>0.0</td>\n",
              "      <td>0.0</td>\n",
              "      <td>0.0</td>\n",
              "      <td>0.0</td>\n",
              "      <td>1.0</td>\n",
              "      <td>0.0</td>\n",
              "      <td>0.0</td>\n",
              "    </tr>\n",
              "    <tr>\n",
              "      <th>4</th>\n",
              "      <td>0.0</td>\n",
              "      <td>0.0</td>\n",
              "      <td>0.0</td>\n",
              "      <td>0.0</td>\n",
              "      <td>0.0</td>\n",
              "      <td>0.0</td>\n",
              "      <td>0.0</td>\n",
              "      <td>0.0</td>\n",
              "      <td>0.0</td>\n",
              "      <td>0.0</td>\n",
              "      <td>0.0</td>\n",
              "      <td>0.0</td>\n",
              "    </tr>\n",
              "  </tbody>\n",
              "</table>\n",
              "</div>"
            ],
            "text/plain": [
              "    22   23   24   25   26   27   28   29   30   31   32   33\n",
              "0  1.0  2.0  2.0  0.0  0.0  0.0  1.0  1.0  1.0  3.0  1.0  0.0\n",
              "1  0.0  0.0  0.0  0.0  0.0  0.0  0.0  0.0  0.0  0.0  0.0  0.0\n",
              "2  0.0  0.0  0.0  0.0  0.0  0.0  3.0  2.0  0.0  1.0  3.0  1.0\n",
              "3  0.0  0.0  0.0  0.0  0.0  0.0  0.0  0.0  0.0  1.0  0.0  0.0\n",
              "4  0.0  0.0  0.0  0.0  0.0  0.0  0.0  0.0  0.0  0.0  0.0  0.0"
            ]
          },
          "metadata": {
            "tags": []
          },
          "execution_count": 65
        }
      ]
    },
    {
      "cell_type": "code",
      "metadata": {
        "id": "H79iuwunZkMp",
        "colab_type": "code",
        "colab": {
          "base_uri": "https://localhost:8080/",
          "height": 34
        },
        "outputId": "e881f359-61c6-41d0-bece-2cd637dd37df"
      },
      "source": [
        "# reshaping it to be fed into an LSTM\n",
        "X_test_reshaped = X_test.values.reshape((X_test.shape[0], X_test.shape[1], 1))\n",
        "print(X_test_reshaped.shape)"
      ],
      "execution_count": 66,
      "outputs": [
        {
          "output_type": "stream",
          "text": [
            "(214200, 12, 1)\n"
          ],
          "name": "stdout"
        }
      ]
    },
    {
      "cell_type": "code",
      "metadata": {
        "id": "Jc2mqt7-Zput",
        "colab_type": "code",
        "colab": {}
      },
      "source": [
        "# making predictions with lstm model\n",
        "lstm_test_pred = model_lstm.predict(X_test_reshaped)"
      ],
      "execution_count": 0,
      "outputs": []
    },
    {
      "cell_type": "code",
      "metadata": {
        "id": "preiHW6AZ5DN",
        "colab_type": "code",
        "colab": {
          "base_uri": "https://localhost:8080/",
          "height": 402
        },
        "outputId": "660f4b83-1ef2-4947-c7c4-9e6cef364e24"
      },
      "source": [
        "# clipping predictions in the range 0 to 20, since that is the distribution range in testing data\n",
        "lstm_test_pred = lstm_test_pred.clip(0,20)\n",
        "# creating dataframe with required columns \n",
        "submission_lstm = pd.DataFrame({'ID':test_data['ID'],'item_cnt_month':lstm_test_pred.ravel()})\n",
        "# creating csv file from dataframe\n",
        "submission_lstm.to_csv('submission_lstm.csv',index = False)\n",
        "submission_lstm"
      ],
      "execution_count": 70,
      "outputs": [
        {
          "output_type": "execute_result",
          "data": {
            "text/html": [
              "<div>\n",
              "<style scoped>\n",
              "    .dataframe tbody tr th:only-of-type {\n",
              "        vertical-align: middle;\n",
              "    }\n",
              "\n",
              "    .dataframe tbody tr th {\n",
              "        vertical-align: top;\n",
              "    }\n",
              "\n",
              "    .dataframe thead th {\n",
              "        text-align: right;\n",
              "    }\n",
              "</style>\n",
              "<table border=\"1\" class=\"dataframe\">\n",
              "  <thead>\n",
              "    <tr style=\"text-align: right;\">\n",
              "      <th></th>\n",
              "      <th>ID</th>\n",
              "      <th>item_cnt_month</th>\n",
              "    </tr>\n",
              "  </thead>\n",
              "  <tbody>\n",
              "    <tr>\n",
              "      <th>0</th>\n",
              "      <td>0</td>\n",
              "      <td>0.496760</td>\n",
              "    </tr>\n",
              "    <tr>\n",
              "      <th>1</th>\n",
              "      <td>1</td>\n",
              "      <td>0.038354</td>\n",
              "    </tr>\n",
              "    <tr>\n",
              "      <th>2</th>\n",
              "      <td>2</td>\n",
              "      <td>0.820674</td>\n",
              "    </tr>\n",
              "    <tr>\n",
              "      <th>3</th>\n",
              "      <td>3</td>\n",
              "      <td>0.074092</td>\n",
              "    </tr>\n",
              "    <tr>\n",
              "      <th>4</th>\n",
              "      <td>4</td>\n",
              "      <td>0.038354</td>\n",
              "    </tr>\n",
              "    <tr>\n",
              "      <th>...</th>\n",
              "      <td>...</td>\n",
              "      <td>...</td>\n",
              "    </tr>\n",
              "    <tr>\n",
              "      <th>214195</th>\n",
              "      <td>214195</td>\n",
              "      <td>0.267044</td>\n",
              "    </tr>\n",
              "    <tr>\n",
              "      <th>214196</th>\n",
              "      <td>214196</td>\n",
              "      <td>0.038354</td>\n",
              "    </tr>\n",
              "    <tr>\n",
              "      <th>214197</th>\n",
              "      <td>214197</td>\n",
              "      <td>0.011252</td>\n",
              "    </tr>\n",
              "    <tr>\n",
              "      <th>214198</th>\n",
              "      <td>214198</td>\n",
              "      <td>0.038354</td>\n",
              "    </tr>\n",
              "    <tr>\n",
              "      <th>214199</th>\n",
              "      <td>214199</td>\n",
              "      <td>0.038354</td>\n",
              "    </tr>\n",
              "  </tbody>\n",
              "</table>\n",
              "<p>214200 rows × 2 columns</p>\n",
              "</div>"
            ],
            "text/plain": [
              "            ID  item_cnt_month\n",
              "0            0        0.496760\n",
              "1            1        0.038354\n",
              "2            2        0.820674\n",
              "3            3        0.074092\n",
              "4            4        0.038354\n",
              "...        ...             ...\n",
              "214195  214195        0.267044\n",
              "214196  214196        0.038354\n",
              "214197  214197        0.011252\n",
              "214198  214198        0.038354\n",
              "214199  214199        0.038354\n",
              "\n",
              "[214200 rows x 2 columns]"
            ]
          },
          "metadata": {
            "tags": []
          },
          "execution_count": 70
        }
      ]
    },
    {
      "cell_type": "markdown",
      "metadata": {
        "id": "r4ACjZpVhAMN",
        "colab_type": "text"
      },
      "source": [
        "#### Now that we are done saving our submission, let's save the modle weights too, for making predictions in future.\n"
      ]
    },
    {
      "cell_type": "code",
      "metadata": {
        "id": "c8fqL9b2ae7k",
        "colab_type": "code",
        "colab": {}
      },
      "source": [
        "with open(\"model_lstm.json\", \"w\") as file:\n",
        "    file.write(model_lstm.to_json())\n",
        "model_lstm.save_weights(\"weights_pfs_lstm.h5\")"
      ],
      "execution_count": 0,
      "outputs": []
    },
    {
      "cell_type": "code",
      "metadata": {
        "id": "0LAmUaooeCQ6",
        "colab_type": "code",
        "colab": {}
      },
      "source": [
        "model_lstm.load_weights(\"weights_pfs_lstm.h5\")"
      ],
      "execution_count": 0,
      "outputs": []
    },
    {
      "cell_type": "code",
      "metadata": {
        "id": "a_TpMFOweDbJ",
        "colab_type": "code",
        "colab": {}
      },
      "source": [
        "files.download('submission_lstm.csv')"
      ],
      "execution_count": 0,
      "outputs": []
    },
    {
      "cell_type": "code",
      "metadata": {
        "id": "6nWOyYBoeNT9",
        "colab_type": "code",
        "colab": {}
      },
      "source": [
        "files.download('weights_pfs_lstm.h5')"
      ],
      "execution_count": 0,
      "outputs": []
    },
    {
      "cell_type": "markdown",
      "metadata": {
        "id": "2-TGW3xDi_oH",
        "colab_type": "text"
      },
      "source": [
        "##### Prediction using CNN LSTM Model\n"
      ]
    },
    {
      "cell_type": "code",
      "metadata": {
        "id": "9mItYudWo36s",
        "colab_type": "code",
        "colab": {}
      },
      "source": [
        "subsequences = 2\n",
        "timesteps = X_test_reshaped.shape[1]//subsequences\n",
        "X_test_sub = X_test_reshaped.reshape((X_test_reshaped.shape[0], subsequences, timesteps, 1))\n",
        "\n"
      ],
      "execution_count": 0,
      "outputs": []
    },
    {
      "cell_type": "code",
      "metadata": {
        "id": "AOCRbwSinGno",
        "colab_type": "code",
        "colab": {}
      },
      "source": [
        "cnn_lstm_test_pred = model_cnn_lstm.predict(X_test_sub)"
      ],
      "execution_count": 0,
      "outputs": []
    },
    {
      "cell_type": "code",
      "metadata": {
        "id": "POM85HM_nLnL",
        "colab_type": "code",
        "colab": {
          "base_uri": "https://localhost:8080/",
          "height": 402
        },
        "outputId": "7b1fb10a-8af2-4ffd-872e-dea36cb11a6a"
      },
      "source": [
        "# clipping predictions in the range 0 to 20, since that is the distribution range in testing data\n",
        "cnn_lstm_test_pred = cnn_lstm_test_pred.clip(0,20)\n",
        "# creating dataframe with required columns \n",
        "submission_cnn_lstm = pd.DataFrame({'ID':test_data['ID'],'item_cnt_month':cnn_lstm_test_pred.ravel()})\n",
        "# creating csv file from dataframe\n",
        "submission_cnn_lstm.to_csv('submission_cnn_lstm.csv',index = False)\n",
        "submission_cnn_lstm"
      ],
      "execution_count": 88,
      "outputs": [
        {
          "output_type": "execute_result",
          "data": {
            "text/html": [
              "<div>\n",
              "<style scoped>\n",
              "    .dataframe tbody tr th:only-of-type {\n",
              "        vertical-align: middle;\n",
              "    }\n",
              "\n",
              "    .dataframe tbody tr th {\n",
              "        vertical-align: top;\n",
              "    }\n",
              "\n",
              "    .dataframe thead th {\n",
              "        text-align: right;\n",
              "    }\n",
              "</style>\n",
              "<table border=\"1\" class=\"dataframe\">\n",
              "  <thead>\n",
              "    <tr style=\"text-align: right;\">\n",
              "      <th></th>\n",
              "      <th>ID</th>\n",
              "      <th>item_cnt_month</th>\n",
              "    </tr>\n",
              "  </thead>\n",
              "  <tbody>\n",
              "    <tr>\n",
              "      <th>0</th>\n",
              "      <td>0</td>\n",
              "      <td>0.174926</td>\n",
              "    </tr>\n",
              "    <tr>\n",
              "      <th>1</th>\n",
              "      <td>1</td>\n",
              "      <td>0.000000</td>\n",
              "    </tr>\n",
              "    <tr>\n",
              "      <th>2</th>\n",
              "      <td>2</td>\n",
              "      <td>0.030774</td>\n",
              "    </tr>\n",
              "    <tr>\n",
              "      <th>3</th>\n",
              "      <td>3</td>\n",
              "      <td>0.021159</td>\n",
              "    </tr>\n",
              "    <tr>\n",
              "      <th>4</th>\n",
              "      <td>4</td>\n",
              "      <td>0.000000</td>\n",
              "    </tr>\n",
              "    <tr>\n",
              "      <th>...</th>\n",
              "      <td>...</td>\n",
              "      <td>...</td>\n",
              "    </tr>\n",
              "    <tr>\n",
              "      <th>214195</th>\n",
              "      <td>214195</td>\n",
              "      <td>0.121636</td>\n",
              "    </tr>\n",
              "    <tr>\n",
              "      <th>214196</th>\n",
              "      <td>214196</td>\n",
              "      <td>0.000000</td>\n",
              "    </tr>\n",
              "    <tr>\n",
              "      <th>214197</th>\n",
              "      <td>214197</td>\n",
              "      <td>0.016149</td>\n",
              "    </tr>\n",
              "    <tr>\n",
              "      <th>214198</th>\n",
              "      <td>214198</td>\n",
              "      <td>0.000000</td>\n",
              "    </tr>\n",
              "    <tr>\n",
              "      <th>214199</th>\n",
              "      <td>214199</td>\n",
              "      <td>0.000000</td>\n",
              "    </tr>\n",
              "  </tbody>\n",
              "</table>\n",
              "<p>214200 rows × 2 columns</p>\n",
              "</div>"
            ],
            "text/plain": [
              "            ID  item_cnt_month\n",
              "0            0        0.174926\n",
              "1            1        0.000000\n",
              "2            2        0.030774\n",
              "3            3        0.021159\n",
              "4            4        0.000000\n",
              "...        ...             ...\n",
              "214195  214195        0.121636\n",
              "214196  214196        0.000000\n",
              "214197  214197        0.016149\n",
              "214198  214198        0.000000\n",
              "214199  214199        0.000000\n",
              "\n",
              "[214200 rows x 2 columns]"
            ]
          },
          "metadata": {
            "tags": []
          },
          "execution_count": 88
        }
      ]
    },
    {
      "cell_type": "markdown",
      "metadata": {
        "id": "f8PytanWjP9l",
        "colab_type": "text"
      },
      "source": [
        "#### Loading weight files\n"
      ]
    },
    {
      "cell_type": "code",
      "metadata": {
        "id": "JlIGA5tvnU7N",
        "colab_type": "code",
        "colab": {}
      },
      "source": [
        "with open(\"model_cnn_lstm.json\", \"w\") as file:\n",
        "    file.write(model_cnn_lstm.to_json())\n",
        "model_cnn_lstm.save_weights(\"weights_pfs_cnn_lstm.h5\")"
      ],
      "execution_count": 0,
      "outputs": []
    },
    {
      "cell_type": "code",
      "metadata": {
        "id": "9M_3c1AfnU3a",
        "colab_type": "code",
        "colab": {}
      },
      "source": [
        "model_cnn_lstm.load_weights(\"weights_pfs_cnn_lstm.h5\")"
      ],
      "execution_count": 0,
      "outputs": []
    },
    {
      "cell_type": "code",
      "metadata": {
        "id": "eEnqLHHQsNV6",
        "colab_type": "code",
        "colab": {}
      },
      "source": [
        "files.download('submission_cnn_lstm.csv')"
      ],
      "execution_count": 0,
      "outputs": []
    },
    {
      "cell_type": "code",
      "metadata": {
        "id": "ZwRWloCTsWP5",
        "colab_type": "code",
        "colab": {}
      },
      "source": [
        "files.download('weights_pfs_cnn_lstm.h5')"
      ],
      "execution_count": 0,
      "outputs": []
    },
    {
      "cell_type": "markdown",
      "metadata": {
        "id": "5j96YMJyjX_i",
        "colab_type": "text"
      },
      "source": [
        "#### Both these \"csv\" files have been submitted to the Kaggle Competition\n",
        "\n"
      ]
    },
    {
      "cell_type": "markdown",
      "metadata": {
        "id": "Wc6ixr8ynWit",
        "colab_type": "text"
      },
      "source": [
        "### Further experiments\n",
        "#### Hyperparameter tuning for hybrid CNN LSTM Model\n",
        "\n",
        "\n"
      ]
    },
    {
      "cell_type": "code",
      "metadata": {
        "id": "a9xRx3mEnx88",
        "colab_type": "code",
        "colab": {}
      },
      "source": [
        "# set 1\n",
        "epochs = 5\n",
        "batch = 256\n",
        "lr = 0.0001\n",
        "adam = optimizers.Adam(lr)"
      ],
      "execution_count": 0,
      "outputs": []
    },
    {
      "cell_type": "markdown",
      "metadata": {
        "id": "fVv0Dd41AOzI",
        "colab_type": "text"
      },
      "source": [
        "#### **Results**\n",
        "##### Accuracy: 91.62%\n",
        "##### Loss: 0.382\n"
      ]
    },
    {
      "cell_type": "code",
      "metadata": {
        "id": "17KSVV44_-A-",
        "colab_type": "code",
        "colab": {}
      },
      "source": [
        "# set 2\n",
        "epochs = 5\n",
        "batch = 256\n",
        "lr = 0.001\n",
        "adam = optimizers.Adam(lr)"
      ],
      "execution_count": 0,
      "outputs": []
    },
    {
      "cell_type": "markdown",
      "metadata": {
        "id": "bitWoXvkHJOW",
        "colab_type": "text"
      },
      "source": [
        "#### **Results**\n",
        "##### Accuracy: 91.69%\n",
        "##### Loss: 0.384\n"
      ]
    },
    {
      "cell_type": "markdown",
      "metadata": {
        "id": "HBSoCfOnHsu8",
        "colab_type": "text"
      },
      "source": [
        "#### More tuning can be done like this\n"
      ]
    },
    {
      "cell_type": "markdown",
      "metadata": {
        "id": "-ZiFHDVPPXSQ",
        "colab_type": "text"
      },
      "source": [
        "### Inspirational Work\n",
        "#### Following are some of the helpful resources:\n"
      ]
    },
    {
      "cell_type": "markdown",
      "metadata": {
        "id": "qs4T1azUrsfG",
        "colab_type": "text"
      },
      "source": [
        "1. https://machinelearningmastery.com/how-to-get-started-with-deep-learning-for-time-series-forecasting-7-day-mini-course/\n",
        "2. https://www.kaggle.com/dimitreoliveira/deep-learning-for-time-series-forecasting/notebook\n",
        "3. https://www.kaggle.com/dimitreoliveira/time-series-forecasting-with-lstm-autoencoders/output\n"
      ]
    }
  ]
}