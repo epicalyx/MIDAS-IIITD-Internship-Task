{
 "cells": [
  {
   "cell_type": "markdown",
   "metadata": {},
   "source": [
    "## Introduction"
   ]
  },
  {
   "cell_type": "markdown",
   "metadata": {},
   "source": [
    "This notebook explores the task of classifying emotions from speech modality. Emotion classification involving multiple modalities like text, speech and facial expressions are on a high rise now owing to several reasons like:\n",
    "- The developments made in machine learning techniques that offer great solutions to such tasks.\n",
    "- Due to the rise in social media and networking that has given researchers vast amont of data to experiment and build models on.\n",
    "- Due to the wide applications the emotion classication task has, ranging from communication between differently abled, to providing personalized customer care support.\n",
    "\n",
    "Here, we will focus on the speech aspect only. Simply put, we are given an audio clip, and our job is to classify it according to the emotional state it corresponds to.\n",
    "\n"
   ]
  },
  {
   "cell_type": "markdown",
   "metadata": {},
   "source": [
    "## Context and Challenges"
   ]
  },
  {
   "cell_type": "markdown",
   "metadata": {},
   "source": [
    "Emotion is an important aspect of communication. Although the field of emotion classification is not new, there is still a lot of left to be explored and achieved. This is because emotions are ambiguous and therefore complex to be modelled. Emotions can be misunderstood even by humans, and therefore the task of even labelling the dataset for speech emotion recognition, is cumbersome and challenging, unlike the task of maybe annotating image datasets for computer vision problems.\n",
    "Next, we need features to work on, researching on which features to use and then crafting them is again a challenging task."
   ]
  },
  {
   "cell_type": "markdown",
   "metadata": {},
   "source": [
    "## Dataset"
   ]
  },
  {
   "cell_type": "markdown",
   "metadata": {},
   "source": [
    "The dataset being used here is: **MELD - A Multimodal Multi-Party Dataset**.\n",
    "- It is available at: https://github.com/SenticNet/MELD\n",
    "- Research paper for the same: https://arxiv.org/pdf/1810.02508.pdf\n",
    "\n",
    "The dataset has audio files in \".wav\" format and there are 5 emotion classes, namely:\n",
    "1. Disgust\n",
    "2. Fear\n",
    "3. Happy\n",
    "4. Neutral\n",
    "5. Sad\n",
    "\n",
    "We have two folders in this- one for training set and other for validation set "
   ]
  },
  {
   "cell_type": "markdown",
   "metadata": {},
   "source": [
    "## Methodology"
   ]
  },
  {
   "cell_type": "markdown",
   "metadata": {},
   "source": [
    "Mainly 2 model architectures have been explored in this notebook:\n",
    "\n",
    "### Model 1\n",
    "\n",
    "**Multi Layer Percetron**\n",
    "\n",
    "Acoustic features represented in the form of MFCC and MEL(discussed later under \"Feature Extraction\") of an audio wave have been extracted using the polular library used for audio analysis - **Librosa**. \n",
    "The features are then passed into a fully connected artificial neural network with 300 units in the hidden layer.\n",
    "\n",
    "### Model 2\n",
    "\n",
    "**Convolutional Neural Network**\n",
    "\n",
    "The same features extracted are reshaped to be fed into a regular CNN, with 6 layers for feature extraction and one output layer for classification.\n",
    "\n"
   ]
  },
  {
   "cell_type": "markdown",
   "metadata": {},
   "source": [
    "## Experiment Results"
   ]
  },
  {
   "cell_type": "markdown",
   "metadata": {},
   "source": [
    "|Model|Accuracy| \n",
    "|--|--|\n",
    "|Multi Layer Perceptron|55.66%|\n",
    "|Regular Convolutional Neural Network|62.29%|\n"
   ]
  },
  {
   "cell_type": "markdown",
   "metadata": {},
   "source": [
    "### 1. Importing General Dependencies"
   ]
  },
  {
   "cell_type": "code",
   "execution_count": 43,
   "metadata": {},
   "outputs": [],
   "source": [
    "import numpy as np # for mathematical computations on matrices\n",
    "import matplotlib.pyplot as plt # for visualising data and results\n",
    "import pandas as pd # to work with dataframes\n",
    "import zipfile \n",
    "import random \n",
    "import sys\n",
    "import os\n",
    "from typing import Tuple\n",
    "\n",
    "import soundfile # to read audio file\n",
    "import librosa # to extract speech features\n",
    "import librosa.display\n",
    "\n",
    "\n",
    "from sklearn.model_selection import train_test_split # for splitting training and testing\n",
    "from sklearn.preprocessing import LabelEncoder\n",
    "from sklearn.neural_network import MLPClassifier # multi-layer perceptron model\n",
    "from sklearn.metrics import accuracy_score # to measure how good we are\n",
    "from sklearn.metrics import confusion_matrix\n",
    "\n",
    "import tensorflow as tf\n",
    "import keras\n",
    "from keras.utils import np_utils\n",
    "from keras.layers import Dense\n",
    "from keras.utils import to_categorical\n",
    "from keras.layers import Input, Flatten, Dropout, Activation\n",
    "from keras.layers import Conv1D, MaxPooling1D, AveragePooling1D\n",
    "from keras.models import Model, Sequential\n",
    "from keras.callbacks import ModelCheckpoint\n",
    "\n",
    "from keras.models import model_from_json # to save and write trained model in json format\n",
    "import json\n",
    "import pickle # to save model after training\n"
   ]
  },
  {
   "cell_type": "code",
   "execution_count": 3,
   "metadata": {},
   "outputs": [],
   "source": [
    "# for reproducible results\n",
    "random.seed(11)"
   ]
  },
  {
   "cell_type": "markdown",
   "metadata": {},
   "source": [
    "### 2. Load Data"
   ]
  },
  {
   "cell_type": "code",
   "execution_count": 4,
   "metadata": {},
   "outputs": [],
   "source": [
    "# to extract contents from zip file, uncomment following lines\n",
    "#zip_ref = zipfile.ZipFile('emotion_final.zip', 'r')\n",
    "#zip_ref.extractall()\n",
    "#zip_ref.close()"
   ]
  },
  {
   "cell_type": "markdown",
   "metadata": {},
   "source": [
    "#### We are given audio files in \".wav\" format. \n",
    "#### Considering the complexity of the task, rule based approaches wouldn't be a good choice, and therefore we are going with machine learning approaches\n",
    "#### Following a machine learning pipeline, our first goal is to extract features from these files, that can then be modelled using various machine learning/deep learning approaches."
   ]
  },
  {
   "cell_type": "markdown",
   "metadata": {},
   "source": [
    "### 3 Feature Extraction\n",
    "#### In order to extract relevant features, we first must know what features are present in an audio. \n",
    "#### Information on emotion is encoded in all aspects of language, in \"what\" we say and in \"how\" we say, and the \"how\" part is definitely more important than the \"what\" part. The way we speak comes under acoustic features of the spoken language and what we speak comes under context based features. \n",
    "#### Now, depending upon what we are trying to achieve, we should choose the features to be extracted. \n",
    "#### For example, if we are to classify emotions from speech, then acoustic features should be an obvious choice since our emotions directly influence the way we speak in terms of our pitch, intensity and voice quality. On the other hand, if are to perform speech emotion recognition or more appropriately, modelling of complex emotions through speech, which can't be put into definite classes, then we shall depend upon contextual features as well. \n",
    "\n"
   ]
  },
  {
   "cell_type": "markdown",
   "metadata": {},
   "source": [
    "#### Here we are to classify emotions, and thus we will go with acoustic features. Some of the relevant and widely used acoustic features are:\n",
    "1. Mel-Spectogram Frequency, which are representations of the short-term power spectrum of a sound.\n",
    "2. MFCC (Mel-frequency cepstral coefficients); these coefficients collectively make up MFC.\n",
    "\n",
    "#### We will be using Librosa, a popular library for audio analysis and its feature extraction.\n"
   ]
  },
  {
   "cell_type": "code",
   "execution_count": 11,
   "metadata": {},
   "outputs": [],
   "source": [
    "def extract_feature(file_name, **kwargs):\n",
    "    \"\"\"\n",
    "    Extract feature from audio file `file_name`\n",
    "        Features supported:\n",
    "            - MFCC (mfcc)\n",
    "            - MEL Spectrogram Frequency (mel)\n",
    "            \n",
    "        e.g:\n",
    "        `features = extract_feature(path, mel=True, mfcc=True)`\n",
    "    \"\"\"\n",
    "    mfcc = kwargs.get(\"mfcc\")\n",
    "    mel = kwargs.get(\"mel\")\n",
    "\n",
    "    with soundfile.SoundFile(file_name) as sound_file:\n",
    "        X,sample_rate = librosa.load(file_name, sr=16000)\n",
    "        result = np.array([])\n",
    "        if mfcc:\n",
    "            mfccs = np.mean(librosa.feature.mfcc(y=X, sr=sample_rate, n_mfcc=40).T, axis=0)\n",
    "            result = np.hstack((result, mfccs))\n",
    "        if mel:\n",
    "            mel = np.mean(librosa.feature.melspectrogram(X, sr=sample_rate).T,axis=0)\n",
    "            result = np.hstack((result, mel))\n",
    "    return result"
   ]
  },
  {
   "cell_type": "markdown",
   "metadata": {},
   "source": [
    "#### We will now apply the feature extraction process to the dataset to obtain feature vectors and their corresponding labels"
   ]
  },
  {
   "cell_type": "code",
   "execution_count": 31,
   "metadata": {},
   "outputs": [],
   "source": [
    "\n",
    "def get_data(data_path: str,\n",
    "             class_labels: Tuple = (\"disgust\", \"fear\", \"happy\", \"neutral\",\"sad\")):\n",
    "    \"\"\"Extract data for training and testing.\n",
    "    1. Iterate through all the folders.\n",
    "    2. Read the audio files in each folder.\n",
    "    3. Extract Mel frequency cepestral coefficients for each file.\n",
    "    4. Generate feature vector for the audio files as required.\n",
    "    Args:\n",
    "        data_path (str): path to the data set folder\n",
    "        class_labels (tuple): class labels that we care about.\n",
    "    Returns:\n",
    "        Tuple[numpy.ndarray, numpy.ndarray]: Two numpy arrays, one with mfcc and\n",
    "        other with labels, and a submission file having audio file names which will later be appended with model predictions\n",
    "    \"\"\"\n",
    "    signal = []\n",
    "    labels = []\n",
    "    names = []\n",
    "    cur_dir = os.getcwd()\n",
    "    sys.stderr.write('curdir: %s\\n' % cur_dir)\n",
    "    os.chdir(data_path)\n",
    "    for i, directory in enumerate(class_labels):\n",
    "        sys.stderr.write(\"started reading folder %s\\n\" % directory)\n",
    "        os.chdir(directory)\n",
    "        for filename in os.listdir('.'):\n",
    "            filepath = os.getcwd() + '/' + filename\n",
    "            feature_vector = extract_feature(filepath,mfcc = True, mel = True)\n",
    "            signal.append(feature_vector)\n",
    "            labels.append(directory)\n",
    "            names.append(filename)\n",
    "        sys.stderr.write(\"ended reading folder %s\\n\" % directory)\n",
    "        os.chdir('..')\n",
    "        submission_file = pd.DataFrame(names,columns = ['File name'], index = None)\n",
    "    os.chdir(cur_dir)\n",
    "    return np.array(signal), (labels),submission_file"
   ]
  },
  {
   "cell_type": "code",
   "execution_count": 32,
   "metadata": {},
   "outputs": [
    {
     "name": "stderr",
     "output_type": "stream",
     "text": [
      "curdir: C:\\Users\\sande\\meld_final\\train\\disgust\n",
      "started reading folder disgust\n",
      "ended reading folder disgust\n",
      "started reading folder fear\n",
      "ended reading folder fear\n",
      "started reading folder happy\n",
      "ended reading folder happy\n",
      "started reading folder neutral\n",
      "ended reading folder neutral\n",
      "started reading folder sad\n",
      "ended reading folder sad\n"
     ]
    }
   ],
   "source": [
    "# obtaining training data to be fed into models \n",
    "X_train,y_train, train_file = get_data(data_path = r\"C:\\Users\\sande\\meld_final\\train\")"
   ]
  },
  {
   "cell_type": "code",
   "execution_count": 33,
   "metadata": {},
   "outputs": [
    {
     "name": "stderr",
     "output_type": "stream",
     "text": [
      "curdir: C:\\Users\\sande\\meld_final\\train\\disgust\n",
      "started reading folder disgust\n",
      "ended reading folder disgust\n",
      "started reading folder fear\n",
      "ended reading folder fear\n",
      "started reading folder happy\n",
      "ended reading folder happy\n",
      "started reading folder neutral\n",
      "ended reading folder neutral\n",
      "started reading folder sad\n",
      "ended reading folder sad\n"
     ]
    }
   ],
   "source": [
    "# obtaining validation data to be tested upon\n",
    "X_val,y_val,val_file = get_data(data_path = r\"C:\\Users\\sande\\meld_final\\val\")"
   ]
  },
  {
   "cell_type": "markdown",
   "metadata": {},
   "source": [
    "### 4. Data Exploration"
   ]
  },
  {
   "cell_type": "markdown",
   "metadata": {},
   "source": [
    "#### Let's check for class imbalancy"
   ]
  },
  {
   "cell_type": "code",
   "execution_count": 20,
   "metadata": {},
   "outputs": [
    {
     "data": {
      "text/html": [
       "<div>\n",
       "<style scoped>\n",
       "    .dataframe tbody tr th:only-of-type {\n",
       "        vertical-align: middle;\n",
       "    }\n",
       "\n",
       "    .dataframe tbody tr th {\n",
       "        vertical-align: top;\n",
       "    }\n",
       "\n",
       "    .dataframe thead th {\n",
       "        text-align: right;\n",
       "    }\n",
       "</style>\n",
       "<table border=\"1\" class=\"dataframe\">\n",
       "  <thead>\n",
       "    <tr style=\"text-align: right;\">\n",
       "      <th></th>\n",
       "      <th>File name</th>\n",
       "      <th>lables</th>\n",
       "      <th>lable</th>\n",
       "      <th>label</th>\n",
       "    </tr>\n",
       "  </thead>\n",
       "  <tbody>\n",
       "    <tr>\n",
       "      <td>0</td>\n",
       "      <td>MEL_dia1000_utt0_negative_DIS.wav</td>\n",
       "      <td>disgust</td>\n",
       "      <td>disgust</td>\n",
       "      <td>disgust</td>\n",
       "    </tr>\n",
       "    <tr>\n",
       "      <td>1</td>\n",
       "      <td>MEL_dia1000_utt1_negative_DIS.wav</td>\n",
       "      <td>disgust</td>\n",
       "      <td>disgust</td>\n",
       "      <td>disgust</td>\n",
       "    </tr>\n",
       "    <tr>\n",
       "      <td>2</td>\n",
       "      <td>MEL_dia1005_utt13_negative_DIS.wav</td>\n",
       "      <td>disgust</td>\n",
       "      <td>disgust</td>\n",
       "      <td>disgust</td>\n",
       "    </tr>\n",
       "    <tr>\n",
       "      <td>3</td>\n",
       "      <td>MEL_dia1005_utt21_negative_DIS.wav</td>\n",
       "      <td>disgust</td>\n",
       "      <td>disgust</td>\n",
       "      <td>disgust</td>\n",
       "    </tr>\n",
       "    <tr>\n",
       "      <td>4</td>\n",
       "      <td>MEL_dia1005_utt6_negative_DIS.wav</td>\n",
       "      <td>disgust</td>\n",
       "      <td>disgust</td>\n",
       "      <td>disgust</td>\n",
       "    </tr>\n",
       "  </tbody>\n",
       "</table>\n",
       "</div>"
      ],
      "text/plain": [
       "                            File name   lables    lable    label\n",
       "0   MEL_dia1000_utt0_negative_DIS.wav  disgust  disgust  disgust\n",
       "1   MEL_dia1000_utt1_negative_DIS.wav  disgust  disgust  disgust\n",
       "2  MEL_dia1005_utt13_negative_DIS.wav  disgust  disgust  disgust\n",
       "3  MEL_dia1005_utt21_negative_DIS.wav  disgust  disgust  disgust\n",
       "4   MEL_dia1005_utt6_negative_DIS.wav  disgust  disgust  disgust"
      ]
     },
     "execution_count": 20,
     "metadata": {},
     "output_type": "execute_result"
    }
   ],
   "source": [
    "train_file['label'] = y_train\n",
    "train_file.head()"
   ]
  },
  {
   "cell_type": "code",
   "execution_count": 21,
   "metadata": {},
   "outputs": [
    {
     "data": {
      "text/plain": [
       "<matplotlib.axes._subplots.AxesSubplot at 0x161dc351390>"
      ]
     },
     "execution_count": 21,
     "metadata": {},
     "output_type": "execute_result"
    },
    {
     "data": {
      "image/png": "[encoded data removed]",
      "text/plain": [
       "<Figure size 432x288 with 1 Axes>"
      ]
     },
     "metadata": {
      "needs_background": "light"
     },
     "output_type": "display_data"
    }
   ],
   "source": [
    "train_file['label'].value_counts().plot.bar()"
   ]
  },
  {
   "cell_type": "markdown",
   "metadata": {},
   "source": [
    "#### The plot above indicates high class imbalancy. Let's see how this might affect our results"
   ]
  },
  {
   "cell_type": "code",
   "execution_count": 34,
   "metadata": {},
   "outputs": [
    {
     "name": "stdout",
     "output_type": "stream",
     "text": [
      "[+] Number of training samples: 7354\n",
      "[+] Number of testing samples: 830\n",
      "[+] Number of features: 168\n"
     ]
    }
   ],
   "source": [
    "# print some details\n",
    "# number of samples in training data\n",
    "print(\"[+] Number of training samples:\", X_train.shape[0])\n",
    "# number of samples in testing data\n",
    "print(\"[+] Number of testing samples:\", X_val.shape[0])\n",
    "# number of features used\n",
    "# this is a vector of features extracted \n",
    "# using extract_features() function\n",
    "print(\"[+] Number of features:\", X_train.shape[1])"
   ]
  },
  {
   "cell_type": "markdown",
   "metadata": {},
   "source": [
    "### 5. Model Building"
   ]
  },
  {
   "cell_type": "markdown",
   "metadata": {},
   "source": [
    "Since we are dealing with a classification problem, let's first try with a basic Artificial Neural Network(MLP).\n",
    "\n",
    "**Model Architecture 1**\n",
    "\n",
    "The network discussed below is a fully connected (dense) neural network with one hidden layer containing 300 units, a batch size of 128, trained for 500 iterations using an adaptive learning rate. These are by far the best set of hyperparameters I experimented with.\n",
    "\n"
   ]
  },
  {
   "cell_type": "code",
   "execution_count": 35,
   "metadata": {},
   "outputs": [],
   "source": [
    "'''The following are the parameters for the MLP Classifier'''\n",
    "\n",
    "model_params = {\n",
    "    'alpha': 0.01,\n",
    "    'batch_size': 128,\n",
    "    'epsilon': 1e-08, \n",
    "    'hidden_layer_sizes': (300,), \n",
    "    'learning_rate': 'adaptive', \n",
    "    'max_iter': 500, \n",
    "}"
   ]
  },
  {
   "cell_type": "code",
   "execution_count": 36,
   "metadata": {},
   "outputs": [],
   "source": [
    "model = MLPClassifier(**model_params)"
   ]
  },
  {
   "cell_type": "markdown",
   "metadata": {},
   "source": [
    "### 6. Model 1 Training"
   ]
  },
  {
   "cell_type": "code",
   "execution_count": 37,
   "metadata": {},
   "outputs": [
    {
     "data": {
      "text/plain": [
       "MLPClassifier(activation='relu', alpha=0.01, batch_size=128, beta_1=0.9,\n",
       "       beta_2=0.999, early_stopping=False, epsilon=1e-08,\n",
       "       hidden_layer_sizes=(300,), learning_rate='adaptive',\n",
       "       learning_rate_init=0.001, max_iter=500, momentum=0.9,\n",
       "       n_iter_no_change=10, nesterovs_momentum=True, power_t=0.5,\n",
       "       random_state=None, shuffle=True, solver='adam', tol=0.0001,\n",
       "       validation_fraction=0.1, verbose=False, warm_start=False)"
      ]
     },
     "execution_count": 37,
     "metadata": {},
     "output_type": "execute_result"
    }
   ],
   "source": [
    "model.fit(X_train, y_train)"
   ]
  },
  {
   "cell_type": "markdown",
   "metadata": {},
   "source": [
    "### 7. Model 1 Evaluation"
   ]
  },
  {
   "cell_type": "code",
   "execution_count": 19,
   "metadata": {},
   "outputs": [
    {
     "name": "stdout",
     "output_type": "stream",
     "text": [
      "Accuracy: 55.66%\n"
     ]
    }
   ],
   "source": [
    "# model predictions\n",
    "y_pred = model.predict(X_val)\n",
    "\n",
    "# calculate the accuracy\n",
    "accuracy = accuracy_score(y_true=y_val, y_pred=y_pred)\n",
    "\n",
    "print(\"Accuracy: {:.2f}%\".format(accuracy*100))"
   ]
  },
  {
   "cell_type": "markdown",
   "metadata": {},
   "source": [
    "#### Let's save our model for future predictions"
   ]
  },
  {
   "cell_type": "code",
   "execution_count": 45,
   "metadata": {},
   "outputs": [],
   "source": [
    "if not os.path.isdir(\"result_ser\"):\n",
    "    os.mkdir(\"result_ser\")\n",
    "pickle.dump(model, open(\"result_ser/mlp_classifier.model\", \"wb\"))"
   ]
  },
  {
   "cell_type": "code",
   "execution_count": 78,
   "metadata": {},
   "outputs": [],
   "source": [
    "# preparing submission files\n",
    "submission_mlp = val_file\n",
    "submission_cnn = val_file\n",
    "submission_lstm = val_file"
   ]
  },
  {
   "cell_type": "code",
   "execution_count": 79,
   "metadata": {},
   "outputs": [
    {
     "data": {
      "text/html": [
       "<div>\n",
       "<style scoped>\n",
       "    .dataframe tbody tr th:only-of-type {\n",
       "        vertical-align: middle;\n",
       "    }\n",
       "\n",
       "    .dataframe tbody tr th {\n",
       "        vertical-align: top;\n",
       "    }\n",
       "\n",
       "    .dataframe thead th {\n",
       "        text-align: right;\n",
       "    }\n",
       "</style>\n",
       "<table border=\"1\" class=\"dataframe\">\n",
       "  <thead>\n",
       "    <tr style=\"text-align: right;\">\n",
       "      <th></th>\n",
       "      <th>File name</th>\n",
       "    </tr>\n",
       "  </thead>\n",
       "  <tbody>\n",
       "    <tr>\n",
       "      <td>0</td>\n",
       "      <td>meld_final/val\\disgust\\MEL_dia15_utt7_negative...</td>\n",
       "    </tr>\n",
       "    <tr>\n",
       "      <td>1</td>\n",
       "      <td>meld_final/val\\disgust\\MEL_dia17_utt12_negativ...</td>\n",
       "    </tr>\n",
       "    <tr>\n",
       "      <td>2</td>\n",
       "      <td>meld_final/val\\disgust\\MEL_dia17_utt14_negativ...</td>\n",
       "    </tr>\n",
       "    <tr>\n",
       "      <td>3</td>\n",
       "      <td>meld_final/val\\disgust\\MEL_dia17_utt3_negative...</td>\n",
       "    </tr>\n",
       "    <tr>\n",
       "      <td>4</td>\n",
       "      <td>meld_final/val\\disgust\\MEL_dia17_utt4_negative...</td>\n",
       "    </tr>\n",
       "  </tbody>\n",
       "</table>\n",
       "</div>"
      ],
      "text/plain": [
       "                                           File name\n",
       "0  meld_final/val\\disgust\\MEL_dia15_utt7_negative...\n",
       "1  meld_final/val\\disgust\\MEL_dia17_utt12_negativ...\n",
       "2  meld_final/val\\disgust\\MEL_dia17_utt14_negativ...\n",
       "3  meld_final/val\\disgust\\MEL_dia17_utt3_negative...\n",
       "4  meld_final/val\\disgust\\MEL_dia17_utt4_negative..."
      ]
     },
     "execution_count": 79,
     "metadata": {},
     "output_type": "execute_result"
    }
   ],
   "source": [
    "submission_mlp.head()"
   ]
  },
  {
   "cell_type": "code",
   "execution_count": 80,
   "metadata": {},
   "outputs": [],
   "source": [
    "# appending predicted labels for the validation set\n",
    "submission_mlp['prediction'] = y_pred"
   ]
  },
  {
   "cell_type": "code",
   "execution_count": 81,
   "metadata": {},
   "outputs": [
    {
     "data": {
      "text/html": [
       "<div>\n",
       "<style scoped>\n",
       "    .dataframe tbody tr th:only-of-type {\n",
       "        vertical-align: middle;\n",
       "    }\n",
       "\n",
       "    .dataframe tbody tr th {\n",
       "        vertical-align: top;\n",
       "    }\n",
       "\n",
       "    .dataframe thead th {\n",
       "        text-align: right;\n",
       "    }\n",
       "</style>\n",
       "<table border=\"1\" class=\"dataframe\">\n",
       "  <thead>\n",
       "    <tr style=\"text-align: right;\">\n",
       "      <th></th>\n",
       "      <th>File name</th>\n",
       "      <th>prediction</th>\n",
       "    </tr>\n",
       "  </thead>\n",
       "  <tbody>\n",
       "    <tr>\n",
       "      <td>825</td>\n",
       "      <td>meld_final/val\\sad\\MEL_dia8_utt0_negative_SAD.wav</td>\n",
       "      <td>neutral</td>\n",
       "    </tr>\n",
       "    <tr>\n",
       "      <td>826</td>\n",
       "      <td>meld_final/val\\sad\\MEL_dia9_utt11_negative_SAD...</td>\n",
       "      <td>neutral</td>\n",
       "    </tr>\n",
       "    <tr>\n",
       "      <td>827</td>\n",
       "      <td>meld_final/val\\sad\\MEL_dia9_utt2_negative_SAD.wav</td>\n",
       "      <td>neutral</td>\n",
       "    </tr>\n",
       "    <tr>\n",
       "      <td>828</td>\n",
       "      <td>meld_final/val\\sad\\MEL_dia9_utt8_negative_SAD.wav</td>\n",
       "      <td>sad</td>\n",
       "    </tr>\n",
       "    <tr>\n",
       "      <td>829</td>\n",
       "      <td>meld_final/val\\sad\\MEL_dia9_utt9_negative_SAD.wav</td>\n",
       "      <td>neutral</td>\n",
       "    </tr>\n",
       "  </tbody>\n",
       "</table>\n",
       "</div>"
      ],
      "text/plain": [
       "                                             File name prediction\n",
       "825  meld_final/val\\sad\\MEL_dia8_utt0_negative_SAD.wav    neutral\n",
       "826  meld_final/val\\sad\\MEL_dia9_utt11_negative_SAD...    neutral\n",
       "827  meld_final/val\\sad\\MEL_dia9_utt2_negative_SAD.wav    neutral\n",
       "828  meld_final/val\\sad\\MEL_dia9_utt8_negative_SAD.wav        sad\n",
       "829  meld_final/val\\sad\\MEL_dia9_utt9_negative_SAD.wav    neutral"
      ]
     },
     "execution_count": 81,
     "metadata": {},
     "output_type": "execute_result"
    }
   ],
   "source": [
    "submission_mlp.tail()"
   ]
  },
  {
   "cell_type": "code",
   "execution_count": 83,
   "metadata": {},
   "outputs": [],
   "source": [
    "# saving submission file\n",
    "submission_mlp.to_csv(r'C:\\Users\\sande\\submission_mlp.txt', header=None, index=None, sep=',', mode='a')"
   ]
  },
  {
   "cell_type": "markdown",
   "metadata": {},
   "source": [
    "**The second approach will be a Convolutional Neural Network**\n",
    "#### Why?\n",
    "Convolutional Neural Networks have shown promising results for both image classification and audio classification. This is because the embeddings used by CNN classifiers work much better than the audio features extracted Since we are to label a given audio into discrete set pf emotion classes, according to acoustic features, CNN seem to be a good choice.\n",
    "On the other hand if we were to model arousal and valence features of a given speech, that is perform context analysis, we should choose a Recurrent Neural Network (LSTM).\n",
    "\n"
   ]
  },
  {
   "cell_type": "markdown",
   "metadata": {},
   "source": [
    "**Preparing dataset to be trained and tested**"
   ]
  },
  {
   "cell_type": "markdown",
   "metadata": {},
   "source": [
    "Encoding the categorical labels using Label Encoder, so that it can be fed into CNN model"
   ]
  },
  {
   "cell_type": "code",
   "execution_count": 39,
   "metadata": {},
   "outputs": [],
   "source": [
    "y_train = np.array(y_train)\n",
    "y_val = np.array(y_val)\n",
    "\n",
    "lb = LabelEncoder()\n",
    "\n",
    "y_train = np_utils.to_categorical(lb.fit_transform(y_train))\n",
    "y_val = np_utils.to_categorical(lb.fit_transform(y_val))"
   ]
  },
  {
   "cell_type": "code",
   "execution_count": 47,
   "metadata": {},
   "outputs": [
    {
     "data": {
      "text/plain": [
       "array([[1., 0., 0., 0., 0.],\n",
       "       [1., 0., 0., 0., 0.],\n",
       "       [1., 0., 0., 0., 0.],\n",
       "       ...,\n",
       "       [0., 0., 0., 0., 1.],\n",
       "       [0., 0., 0., 0., 1.],\n",
       "       [0., 0., 0., 0., 1.]], dtype=float32)"
      ]
     },
     "execution_count": 47,
     "metadata": {},
     "output_type": "execute_result"
    }
   ],
   "source": [
    "y_train"
   ]
  },
  {
   "cell_type": "code",
   "execution_count": 40,
   "metadata": {},
   "outputs": [
    {
     "data": {
      "text/plain": [
       "(7354, 168)"
      ]
     },
     "execution_count": 40,
     "metadata": {},
     "output_type": "execute_result"
    }
   ],
   "source": [
    "X_train.shape"
   ]
  },
  {
   "cell_type": "markdown",
   "metadata": {},
   "source": [
    "Reshaping feature vectors from 2 dimension to 3 dimensional, so that they can be fed into CNN model"
   ]
  },
  {
   "cell_type": "code",
   "execution_count": 41,
   "metadata": {},
   "outputs": [],
   "source": [
    "x_traincnn =np.expand_dims(X_train, axis=2)\n",
    "x_valcnn= np.expand_dims(X_val, axis=2)"
   ]
  },
  {
   "cell_type": "markdown",
   "metadata": {},
   "source": [
    "### 5. Model Building\n",
    "#### Model Architecture 2\n",
    "A 6 layer architechture has been proposed, which has 4 Convolutional 1-D layers, a dropout layer and a maxpooling layer. These feature extraction layers are then followed by a Dense output layer used for final classification of emeotions. \n",
    "\n",
    "**Activation Function** - ReLU has been used in feature extraction layers and softmax for the output classification layer.\n"
   ]
  },
  {
   "cell_type": "code",
   "execution_count": 56,
   "metadata": {},
   "outputs": [],
   "source": [
    "model = Sequential()\n",
    "\n",
    "model.add(Conv1D(256, 5,padding='same',\n",
    "                 input_shape=(168,1)))\n",
    "model.add(Activation('relu'))\n",
    "model.add(Conv1D(128, 5,padding='same'))\n",
    "model.add(Activation('relu'))\n",
    "model.add(Dropout(0.1))\n",
    "model.add(MaxPooling1D(pool_size=(8)))\n",
    "model.add(Conv1D(128, 5,padding='same',))\n",
    "model.add(Activation('relu'))\n",
    "model.add(Conv1D(128, 5,padding='same',))\n",
    "model.add(Activation('relu'))\n",
    "model.add(Flatten())\n",
    "model.add(Dense(5))\n",
    "model.add(Activation('softmax'))\n",
    "opt = keras.optimizers.rmsprop(lr=0.00001, decay=1e-6)"
   ]
  },
  {
   "cell_type": "code",
   "execution_count": 57,
   "metadata": {},
   "outputs": [
    {
     "name": "stdout",
     "output_type": "stream",
     "text": [
      "_________________________________________________________________\n",
      "Layer (type)                 Output Shape              Param #   \n",
      "=================================================================\n",
      "conv1d_13 (Conv1D)           (None, 168, 256)          1536      \n",
      "_________________________________________________________________\n",
      "activation_16 (Activation)   (None, 168, 256)          0         \n",
      "_________________________________________________________________\n",
      "conv1d_14 (Conv1D)           (None, 168, 128)          163968    \n",
      "_________________________________________________________________\n",
      "activation_17 (Activation)   (None, 168, 128)          0         \n",
      "_________________________________________________________________\n",
      "dropout_4 (Dropout)          (None, 168, 128)          0         \n",
      "_________________________________________________________________\n",
      "max_pooling1d_4 (MaxPooling1 (None, 21, 128)           0         \n",
      "_________________________________________________________________\n",
      "conv1d_15 (Conv1D)           (None, 21, 128)           82048     \n",
      "_________________________________________________________________\n",
      "activation_18 (Activation)   (None, 21, 128)           0         \n",
      "_________________________________________________________________\n",
      "conv1d_16 (Conv1D)           (None, 21, 128)           82048     \n",
      "_________________________________________________________________\n",
      "activation_19 (Activation)   (None, 21, 128)           0         \n",
      "_________________________________________________________________\n",
      "flatten_4 (Flatten)          (None, 2688)              0         \n",
      "_________________________________________________________________\n",
      "dense_4 (Dense)              (None, 5)                 13445     \n",
      "_________________________________________________________________\n",
      "activation_20 (Activation)   (None, 5)                 0         \n",
      "=================================================================\n",
      "Total params: 343,045\n",
      "Trainable params: 343,045\n",
      "Non-trainable params: 0\n",
      "_________________________________________________________________\n"
     ]
    }
   ],
   "source": [
    "model.summary()"
   ]
  },
  {
   "cell_type": "code",
   "execution_count": 58,
   "metadata": {},
   "outputs": [],
   "source": [
    "# model compilation\n",
    "model.compile(loss='categorical_crossentropy', optimizer=opt,metrics=['accuracy'])"
   ]
  },
  {
   "cell_type": "markdown",
   "metadata": {},
   "source": [
    "### 6. Model 2 Training"
   ]
  },
  {
   "cell_type": "code",
   "execution_count": 67,
   "metadata": {},
   "outputs": [
    {
     "name": "stdout",
     "output_type": "stream",
     "text": [
      "WARNING:tensorflow:From c:\\users\\sande\\anaconda3\\envs\\tensorflowgpu\\lib\\site-packages\\tensorflow\\python\\ops\\math_ops.py:3066: to_int32 (from tensorflow.python.ops.math_ops) is deprecated and will be removed in a future version.\n",
      "Instructions for updating:\n",
      "Use tf.cast instead.\n",
      "Train on 7354 samples, validate on 830 samples\n",
      "Epoch 1/7\n",
      "7354/7354 [==============================] - 19s 3ms/step - loss: 1.0864 - acc: 0.6138 - val_loss: 1.0785 - val_acc: 0.6229\n",
      "Epoch 2/7\n",
      "7354/7354 [==============================] - 19s 3ms/step - loss: 1.0634 - acc: 0.6244 - val_loss: 1.0666 - val_acc: 0.6229\n",
      "Epoch 3/7\n",
      "7354/7354 [==============================] - 19s 3ms/step - loss: 1.0546 - acc: 0.6247 - val_loss: 1.0767 - val_acc: 0.6229\n",
      "Epoch 4/7\n",
      "7354/7354 [==============================] - 19s 3ms/step - loss: 1.0515 - acc: 0.6246 - val_loss: 1.0713 - val_acc: 0.6229\n",
      "Epoch 5/7\n",
      "7354/7354 [==============================] - 19s 3ms/step - loss: 1.0489 - acc: 0.6247 - val_loss: 1.0763 - val_acc: 0.6229\n",
      "Epoch 6/7\n",
      "7354/7354 [==============================] - 19s 3ms/step - loss: 1.0469 - acc: 0.6244 - val_loss: 1.0740 - val_acc: 0.6229\n",
      "Epoch 7/7\n",
      "7354/7354 [==============================] - 19s 3ms/step - loss: 1.0458 - acc: 0.6254 - val_loss: 1.0702 - val_acc: 0.6229\n"
     ]
    }
   ],
   "source": [
    "cnnhistory=model.fit(x_traincnn, y_train, batch_size=16, epochs=7, validation_data=(x_valcnn, y_val))"
   ]
  },
  {
   "cell_type": "markdown",
   "metadata": {},
   "source": [
    "**Affect of hyperparameter tuning in this case**\n",
    "\n",
    "I tried several sets of hyperparameters for this, and the one included above seems to perform better than others.\n",
    "\n",
    "Since there is a major issue with the features extracted and problem of imbalanced classes too, the role of different hyperparameters is negligible. \n",
    "Still, I observed the following trends with learnig rate and weight decay:\n",
    "\n",
    "- On increasing the learning rate, the accuracy increases, though only a little.\n",
    "- Decreasing the learning rate hurts the performance.\n",
    "\n",
    "- Increasing weight decay produces slightly better results."
   ]
  },
  {
   "cell_type": "markdown",
   "metadata": {},
   "source": [
    "**Visualizing training and test set losses**"
   ]
  },
  {
   "cell_type": "code",
   "execution_count": 68,
   "metadata": {},
   "outputs": [
    {
     "data": {
      "image/png": "[encoded data removed]",
      "text/plain": [
       "<Figure size 432x288 with 1 Axes>"
      ]
     },
     "metadata": {
      "needs_background": "light"
     },
     "output_type": "display_data"
    }
   ],
   "source": [
    "plt.plot(cnnhistory.history['loss'])\n",
    "plt.plot(cnnhistory.history['val_loss'])\n",
    "plt.title('model loss')\n",
    "plt.ylabel('loss')\n",
    "plt.xlabel('epoch')\n",
    "plt.legend(['train', 'test'], loc='upper left')\n",
    "plt.show()"
   ]
  },
  {
   "cell_type": "markdown",
   "metadata": {},
   "source": [
    "**Saving model weights, to directly use them for predicting in future**"
   ]
  },
  {
   "cell_type": "code",
   "execution_count": 69,
   "metadata": {},
   "outputs": [
    {
     "name": "stdout",
     "output_type": "stream",
     "text": [
      "Saved trained model at C:\\Users\\sande\\saved_models\\Emotion_Voice_Detection_Model.h5 \n"
     ]
    }
   ],
   "source": [
    "model_name = 'Emotion_Voice_Detection_Model.h5'\n",
    "save_dir = os.path.join(os.getcwd(), 'saved_models')\n",
    "# Save model and weights\n",
    "if not os.path.isdir(save_dir):\n",
    "    os.makedirs(save_dir)\n",
    "model_path = os.path.join(save_dir, model_name)\n",
    "model.save(model_path)\n",
    "print('Saved trained model at %s ' % model_path)"
   ]
  },
  {
   "cell_type": "code",
   "execution_count": 70,
   "metadata": {},
   "outputs": [],
   "source": [
    "\n",
    "model_json = model.to_json()\n",
    "with open(\"model.json\", \"w\") as json_file:\n",
    "    json_file.write(model_json)"
   ]
  },
  {
   "cell_type": "markdown",
   "metadata": {},
   "source": [
    "### 7. Model 2 Evaluation"
   ]
  },
  {
   "cell_type": "code",
   "execution_count": 71,
   "metadata": {},
   "outputs": [
    {
     "name": "stdout",
     "output_type": "stream",
     "text": [
      "Loaded model from disk\n",
      "acc: 62.29%\n"
     ]
    }
   ],
   "source": [
    "# loading json and creating model\n",
    "json_file = open('model.json', 'r')\n",
    "loaded_model_json = json_file.read()\n",
    "json_file.close()\n",
    "loaded_model = model_from_json(loaded_model_json)\n",
    "# load weights into new model\n",
    "loaded_model.load_weights(\"saved_models/Emotion_Voice_Detection_Model.h5\")\n",
    "print(\"Loaded model from disk\")\n",
    " \n",
    "# evaluate loaded model on test data\n",
    "loaded_model.compile(loss='categorical_crossentropy', optimizer=opt, metrics=['accuracy'])\n",
    "score = loaded_model.evaluate(x_valcnn, y_val, verbose=0)\n",
    "print(\"%s: %.2f%%\" % (loaded_model.metrics_names[1], score[1]*100))"
   ]
  },
  {
   "cell_type": "code",
   "execution_count": 92,
   "metadata": {},
   "outputs": [
    {
     "name": "stdout",
     "output_type": "stream",
     "text": [
      "830/830 [==============================] - 1s 1ms/step\n"
     ]
    }
   ],
   "source": [
    "# model predictions\n",
    "y_pred = loaded_model.predict(x_valcnn, \n",
    "                         batch_size=32, \n",
    "                         verbose=1)"
   ]
  },
  {
   "cell_type": "code",
   "execution_count": 93,
   "metadata": {},
   "outputs": [
    {
     "data": {
      "text/plain": [
       "array([[0.02174705, 0.02462263, 0.13787486, 0.6255542 , 0.19020122],\n",
       "       [0.03818088, 0.03727229, 0.18855684, 0.59321785, 0.1427722 ],\n",
       "       [0.03141043, 0.03374623, 0.16974618, 0.6352713 , 0.12982588],\n",
       "       ...,\n",
       "       [0.03239993, 0.03393225, 0.17729552, 0.62399495, 0.13237736],\n",
       "       [0.027522  , 0.0300059 , 0.15475681, 0.64678425, 0.1409311 ],\n",
       "       [0.03351827, 0.03703905, 0.17496392, 0.63138956, 0.12308923]],\n",
       "      dtype=float32)"
      ]
     },
     "execution_count": 93,
     "metadata": {},
     "output_type": "execute_result"
    }
   ],
   "source": [
    "y_pred"
   ]
  },
  {
   "cell_type": "code",
   "execution_count": 102,
   "metadata": {},
   "outputs": [],
   "source": [
    "y_preds=y_pred.argmax(axis=1)"
   ]
  },
  {
   "cell_type": "code",
   "execution_count": 104,
   "metadata": {},
   "outputs": [],
   "source": [
    "# converting encoded labels back into categorical type\n",
    "y_preds = lb.inverse_transform(y_preds)"
   ]
  },
  {
   "cell_type": "code",
   "execution_count": 105,
   "metadata": {},
   "outputs": [],
   "source": [
    "# appending predicted labels to the file\n",
    "submission_cnn['prediction'] = y_preds"
   ]
  },
  {
   "cell_type": "code",
   "execution_count": 107,
   "metadata": {},
   "outputs": [],
   "source": [
    "# saving submission file\n",
    "submission_cnn.to_csv(r'C:\\Users\\sande\\submission_cnn.txt', header=None, index=None, sep=',', mode='a')"
   ]
  },
  {
   "cell_type": "markdown",
   "metadata": {},
   "source": [
    "### Conclusion"
   ]
  },
  {
   "cell_type": "markdown",
   "metadata": {},
   "source": [
    "We didn't get a very promising result from either of the models discussed. Now, there could be mainly two reasons for that:\n",
    "\n",
    "1. High class imbalancy, we can see that are around **4500** samples with **neutral** emotion while only about **200** in the **fear class**. This affects the features that are being extracted and hence the overall performance and results of our models.\n",
    "\n",
    "2. I tried the above two models on different datasets available for speech emotion classification, namely **EMODb(Berlin Database for speech)** and **RAVDESS** datasets. The models seem to work quite well on these two datasets. Therefore, we can suspect that there is an issue with the features extracted from the audio files of **MELD**. This is also the reason for slow convergence of our models(CNN in particular)."
   ]
  },
  {
   "cell_type": "markdown",
   "metadata": {},
   "source": [
    "### Future Work"
   ]
  },
  {
   "cell_type": "markdown",
   "metadata": {},
   "source": [
    "1. My next goal for this particular task, will be to try different features extraction techniques (hand crafted and otherwise), and therefore improvise upon this step. \n",
    "2. Another workaround will be to to solve class imbalancy issue and try different model architectures \n"
   ]
  },
  {
   "cell_type": "markdown",
   "metadata": {},
   "source": [
    "### Several failed attempts:\n",
    "**Below are few of my attemps for the same task, which didn't work out well**\n",
    "1. I reproduced the results for the MELD dataset discussed in this [repository](https://github.com/SenticNet/conv-emotion/tree/master/DialogueRNN), which explores a novel architecture called Dialogue RNN. I didn't include it here, because it wasn't really the solution I could come up with on my own!\n",
    "2. I tried the model discussed in this [repository](https://github.com/harry-7/speech-emotion-recognition) too, but the model wasn't converging at all!\n",
    "3. I tried the model discussed [here](https://github.com/maelfabien/Multimodal-Emotion-Recognition/tree/master/01-Audio). I couldn't observe it for long, since it is quite a heavy model to be run even with GPU support. I will be trying it out once again!"
   ]
  },
  {
   "cell_type": "markdown",
   "metadata": {},
   "source": [
    "### Inspirational Work"
   ]
  },
  {
   "cell_type": "markdown",
   "metadata": {},
   "source": [
    "Few useful resources that really helped me understand the whole pipeline of a speech emotion classification task:\n",
    "1. https://github.com/maelfabien/Multimodal-Emotion-Recognition/tree/master/01-Audio\n",
    "2. https://www.thepythoncode.com/article/building-a-speech-emotion-recognizer-using-sklearn\n",
    "3. https://github.com/MITESHPUTHRANNEU/Speech-Emotion-Analyzer\n",
    "4. https://github.com/harry-7/speech-emotion-recognition\n",
    "\n",
    "Amazing research papers to read for this domain:\n",
    "1. https://github.com/maelfabien/Multimodal-Emotion-Recognition/blob/master/01-Audio/Resources/Speech%20Emotion%20Recognition%20using%20Convolutional%20Neural%20Networks.pdf\n",
    "2. https://arxiv.org/pdf/1810.04635v1.pdf\n",
    "3. https://arxiv.org/pdf/1811.00405.pdf\n",
    "4. https://arxiv.org/pdf/1810.02508.pdf\n"
   ]
  }
 ],
 "metadata": {
  "kernelspec": {
   "display_name": "Python 3",
   "language": "python",
   "name": "python3"
  },
  "language_info": {
   "codemirror_mode": {
    "name": "ipython",
    "version": 3
   },
   "file_extension": ".py",
   "mimetype": "text/x-python",
   "name": "python",
   "nbconvert_exporter": "python",
   "pygments_lexer": "ipython3",
   "version": "3.7.3"
  }
 },
 "nbformat": 4,
 "nbformat_minor": 2
}
